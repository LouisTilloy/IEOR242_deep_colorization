{
 "cells": [
  {
   "cell_type": "code",
   "execution_count": 18,
   "metadata": {},
   "outputs": [],
   "source": [
    "from __future__ import absolute_import, division, print_function, unicode_literals\n",
    "import tensorflow as tf\n",
    "import numpy as np\n",
    "import matplotlib.pyplot as plt\n",
    "import tensorflow_datasets as tfds\n",
    "\n",
    "from tqdm import tqdm_notebook as tqdm\n",
    "from copy import copy, deepcopy\n",
    "from tensorflow.keras import datasets, layers, models, Sequential\n",
    "from skimage import color\n",
    "\n",
    "from utils import *\n",
    "from sklearn.model_selection import train_test_split\n",
    "from keras.callbacks import ModelCheckpoint, TensorBoard\n",
    "BATCH_SIZE = 16"
   ]
  },
  {
   "cell_type": "code",
   "execution_count": 19,
   "metadata": {},
   "outputs": [],
   "source": [
    "load_data = tfds.load(\"cifar10\")\n",
    "train, test = load_data[\"train\"], load_data[\"test\"]"
   ]
  },
  {
   "cell_type": "code",
   "execution_count": 3,
   "metadata": {},
   "outputs": [],
   "source": [
    "def load_images_from_folder(folder):\n",
    "    images = []\n",
    "    for filename in os.listdir(folder):\n",
    "        img = cv2.imread(os.path.join(folder,filename))\n",
    "        if img is not None:\n",
    "            images.append(img)\n",
    "    return images"
   ]
  },
  {
   "cell_type": "code",
   "execution_count": 4,
   "metadata": {},
   "outputs": [],
   "source": [
    "images = load_images_from_folder('boats')"
   ]
  },
  {
   "cell_type": "code",
   "execution_count": 5,
   "metadata": {},
   "outputs": [],
   "source": [
    "train_images, test_images = train_test_split(images, test_size=0.1)"
   ]
  },
  {
   "cell_type": "code",
   "execution_count": 15,
   "metadata": {},
   "outputs": [],
   "source": [
    "train_images = [np.array(data[\"image\"]) for data in train]"
   ]
  },
  {
   "cell_type": "code",
   "execution_count": 16,
   "metadata": {},
   "outputs": [
    {
     "data": {
      "text/plain": [
       "50000"
      ]
     },
     "execution_count": 16,
     "metadata": {},
     "output_type": "execute_result"
    }
   ],
   "source": [
    "len(train_images)"
   ]
  },
  {
   "cell_type": "code",
   "execution_count": null,
   "metadata": {},
   "outputs": [
    {
     "name": "stderr",
     "output_type": "stream",
     "text": [
      "WARNING: Logging before flag parsing goes to stderr.\n",
      "E0507 18:36:21.802767 4496106944 zmqstream.py:435] Uncaught exception in ZMQStream callback\n",
      "Traceback (most recent call last):\n",
      "  File \"/Users/reniel96/anaconda3/lib/python3.5/site-packages/zmq/eventloop/zmqstream.py\", line 432, in _run_callback\n",
      "    callback(*args, **kwargs)\n",
      "  File \"/Users/reniel96/anaconda3/lib/python3.5/site-packages/tornado/stack_context.py\", line 300, in null_wrapper\n",
      "    return fn(*args, **kwargs)\n",
      "  File \"/Users/reniel96/anaconda3/lib/python3.5/site-packages/ipykernel/kernelbase.py\", line 283, in dispatcher\n",
      "    return self.dispatch_shell(stream, msg)\n",
      "  File \"/Users/reniel96/anaconda3/lib/python3.5/site-packages/ipykernel/kernelbase.py\", line 233, in dispatch_shell\n",
      "    handler(stream, idents, msg)\n",
      "  File \"/Users/reniel96/anaconda3/lib/python3.5/site-packages/ipykernel/kernelbase.py\", line 399, in execute_request\n",
      "    user_expressions, allow_stdin)\n",
      "  File \"/Users/reniel96/anaconda3/lib/python3.5/site-packages/ipykernel/ipkernel.py\", line 208, in do_execute\n",
      "    res = shell.run_cell(code, store_history=store_history, silent=silent)\n",
      "  File \"/Users/reniel96/anaconda3/lib/python3.5/site-packages/ipykernel/zmqshell.py\", line 537, in run_cell\n",
      "    return super(ZMQInteractiveShell, self).run_cell(*args, **kwargs)\n",
      "  File \"/Users/reniel96/anaconda3/lib/python3.5/site-packages/IPython/core/interactiveshell.py\", line 2664, in run_cell\n",
      "    self.events.trigger('post_execute')\n",
      "  File \"/Users/reniel96/anaconda3/lib/python3.5/site-packages/IPython/core/events.py\", line 88, in trigger\n",
      "    func(*args, **kwargs)\n",
      "  File \"/Users/reniel96/anaconda3/lib/python3.5/site-packages/matplotlib/pyplot.py\", line 149, in post_execute\n",
      "    draw_all()\n",
      "  File \"/Users/reniel96/anaconda3/lib/python3.5/site-packages/matplotlib/_pylab_helpers.py\", line 136, in draw_all\n",
      "    f_mgr.canvas.draw_idle()\n",
      "  File \"/Users/reniel96/anaconda3/lib/python3.5/site-packages/matplotlib/backend_bases.py\", line 2055, in draw_idle\n",
      "    self.draw(*args, **kwargs)\n",
      "  File \"/Users/reniel96/anaconda3/lib/python3.5/site-packages/matplotlib/backends/backend_agg.py\", line 433, in draw\n",
      "    self.figure.draw(self.renderer)\n",
      "  File \"/Users/reniel96/anaconda3/lib/python3.5/site-packages/matplotlib/artist.py\", line 55, in draw_wrapper\n",
      "    return draw(artist, renderer, *args, **kwargs)\n",
      "  File \"/Users/reniel96/anaconda3/lib/python3.5/site-packages/matplotlib/figure.py\", line 1475, in draw\n",
      "    renderer, self, artists, self.suppressComposite)\n",
      "  File \"/Users/reniel96/anaconda3/lib/python3.5/site-packages/matplotlib/image.py\", line 141, in _draw_list_compositing_images\n",
      "    a.draw(renderer)\n",
      "  File \"/Users/reniel96/anaconda3/lib/python3.5/site-packages/matplotlib/artist.py\", line 55, in draw_wrapper\n",
      "    return draw(artist, renderer, *args, **kwargs)\n",
      "  File \"/Users/reniel96/anaconda3/lib/python3.5/site-packages/matplotlib/axes/_base.py\", line 2607, in draw\n",
      "    mimage._draw_list_compositing_images(renderer, self, artists)\n",
      "  File \"/Users/reniel96/anaconda3/lib/python3.5/site-packages/matplotlib/image.py\", line 141, in _draw_list_compositing_images\n",
      "    a.draw(renderer)\n",
      "  File \"/Users/reniel96/anaconda3/lib/python3.5/site-packages/matplotlib/artist.py\", line 55, in draw_wrapper\n",
      "    return draw(artist, renderer, *args, **kwargs)\n",
      "  File \"/Users/reniel96/anaconda3/lib/python3.5/site-packages/matplotlib/axis.py\", line 1190, in draw\n",
      "    ticks_to_draw = self._update_ticks(renderer)\n",
      "  File \"/Users/reniel96/anaconda3/lib/python3.5/site-packages/matplotlib/axis.py\", line 1028, in _update_ticks\n",
      "    tick_tups = list(self.iter_ticks())  # iter_ticks calls the locator\n",
      "  File \"/Users/reniel96/anaconda3/lib/python3.5/site-packages/matplotlib/axis.py\", line 972, in iter_ticks\n",
      "    majorTicks = self.get_major_ticks(len(majorLocs))\n",
      "  File \"/Users/reniel96/anaconda3/lib/python3.5/site-packages/matplotlib/axis.py\", line 1400, in get_major_ticks\n",
      "    tick = self._get_tick(major=True)\n",
      "  File \"/Users/reniel96/anaconda3/lib/python3.5/site-packages/matplotlib/axis.py\", line 2164, in _get_tick\n",
      "    return YTick(self.axes, 0, '', major=major, **tick_kw)\n",
      "  File \"/Users/reniel96/anaconda3/lib/python3.5/site-packages/matplotlib/axis.py\", line 177, in __init__\n",
      "    self.tick2line = self._get_tick2line()\n",
      "  File \"/Users/reniel96/anaconda3/lib/python3.5/site-packages/matplotlib/axis.py\", line 613, in _get_tick2line\n",
      "    zorder=self._zorder)\n",
      "  File \"/Users/reniel96/anaconda3/lib/python3.5/site-packages/matplotlib/lines.py\", line 345, in __init__\n",
      "    antialiased = rcParams['lines.antialiased']\n",
      "KeyboardInterrupt\n"
     ]
    }
   ],
   "source": [
    "for index, data in enumerate(train.shuffle(1000).take(20)):\n",
    "    if index % 2 == 0:\n",
    "        plt.figure(figsize=(15, 5))\n",
    "        base_index = 1\n",
    "    else:\n",
    "        base_index = 4\n",
    "        \n",
    "    plt.subplot(1, 5, base_index)\n",
    "    plt.imshow(data[\"image\"])\n",
    "\n",
    "    new_feature, new_label = pre_process(data[\"image\"], 64)\n",
    "    reconstructed_image = process_output(new_feature, new_label, tuple(data[\"image\"].shape)[:2], 64)\n",
    "    plt.subplot(1, 5, base_index + 1)\n",
    "    plt.imshow(reconstructed_image)"
   ]
  },
  {
   "cell_type": "code",
   "execution_count": 5,
   "metadata": {},
   "outputs": [],
   "source": [
    "N_BINS = 313"
   ]
  },
  {
   "cell_type": "code",
   "execution_count": 10,
   "metadata": {},
   "outputs": [],
   "source": [
    "from tensorflow.keras.layers import *\n",
    "def Model():\n",
    "    model = Sequential()\n",
    "        ############################\n",
    "        #########  Conv 1  #########\n",
    "        ############################\n",
    "\n",
    "        # (batch_size, 32, 32, 1) --> (batch_size, 16, 16, 8)\n",
    "    model.add(Conv2D(filters=8, kernel_size=3,\n",
    "                              padding='same',\n",
    "                              activation='relu',\n",
    "                              input_shape=(32, 32, 1)))\n",
    "    model.add(Conv2D(filters=8, kernel_size=3,\n",
    "                              strides=(2, 2),\n",
    "                              padding='same',\n",
    "                              activation='relu'))\n",
    "    model.add(BatchNormalization())\n",
    "        \n",
    "        ############################\n",
    "        #########  Conv 2  #########\n",
    "        ############################\n",
    "        \n",
    "        # (batch_size, 16, 16, 8) --> (batch_size, 8, 8, 16)\n",
    "    model.add(Conv2D(filters=16, kernel_size=3,\n",
    "                              padding='same',\n",
    "                              activation='relu'))\n",
    "    model.add(Conv2D(filters=16, kernel_size=3,\n",
    "                              strides=(2, 2),\n",
    "                              padding='same',\n",
    "                              activation='relu'))\n",
    "    model.add(BatchNormalization())\n",
    "\n",
    "        ############################\n",
    "        #########  Conv 3  #########\n",
    "        ############################\n",
    "        \n",
    "        # (batch_size, 8, 8, 16)  --> (batch_size, 4, 4, 32)\n",
    "    model.add(layers.Conv2D(filters=32, kernel_size=3,\n",
    "                                     padding='same',\n",
    "                                     activation='relu'))\n",
    "    model.add(layers.Conv2D(filters=32, kernel_size=3,\n",
    "                                     padding='same',\n",
    "                                     activation='relu'))\n",
    "    model.add(layers.Conv2D(filters=32, kernel_size=3,\n",
    "                                     strides=(2, 2),\n",
    "                                     padding='same',\n",
    "                                     activation='relu'))\n",
    "    model.add(BatchNormalization())\n",
    "        \n",
    "        ############################\n",
    "        #########  Conv 4  #########\n",
    "        ############################\n",
    "        \n",
    "        # (batch_size, 4, 4, 32) --> (batch_size, 4, 4, 64)\n",
    "    model.add(Conv2D(filters=64, kernel_size=3,\n",
    "                              strides=(1, 1),\n",
    "                              padding='same',\n",
    "                              activation='relu'))\n",
    "    model.add(Conv2D(filters=64, kernel_size=3,\n",
    "                              strides=(1, 1),\n",
    "                              padding='same',\n",
    "                              activation='relu'))\n",
    "    model.add(Conv2D(filters=64, kernel_size=3,\n",
    "                              strides=(1, 1),\n",
    "                              padding='same',\n",
    "                              activation='relu'))\n",
    "    model.add(BatchNormalization())\n",
    "        \n",
    "        ############################\n",
    "        #########  Conv 5  #########\n",
    "        ############################\n",
    "        \n",
    "        # (batch_size, 4, 4, 64) --> (batch_size, 8, 8, 32)\n",
    "    model.add(Conv2D(filters=64, kernel_size=3,\n",
    "                              strides=(1, 1),\n",
    "                              padding='same',\n",
    "                              activation='relu',\n",
    "                              dilation_rate=2))\n",
    "    model.add(Conv2D(filters=64, kernel_size=3,\n",
    "                              strides=(1, 1),\n",
    "                              padding='same',\n",
    "                              activation='relu',\n",
    "                              dilation_rate=2))\n",
    "    model.add(Conv2D(filters=64, kernel_size=3,\n",
    "                              strides=(1, 1),\n",
    "                              padding='same',\n",
    "                              activation='relu',\n",
    "                              dilation_rate=2))\n",
    "    model.add(BatchNormalization())\n",
    "        \n",
    "        ############################\n",
    "        #########  Conv 6  #########\n",
    "        ############################\n",
    "        \n",
    "        # (batch_size, 8, 8, 32) --> (batch_size, 16, 16, 32)\n",
    "    model.add(Conv2D(filters=64, kernel_size=3,\n",
    "                              padding='same',\n",
    "                              activation='relu',\n",
    "                              dilation_rate=2))\n",
    "    model.add(Conv2D(filters=64, kernel_size=3,\n",
    "                              padding='same',\n",
    "                              activation='relu',\n",
    "                              dilation_rate=2))\n",
    "    model.add(Conv2D(filters=64, kernel_size=3,\n",
    "                              padding='same',\n",
    "                              activation='relu',\n",
    "                              dilation_rate=2))\n",
    "    model.add(BatchNormalization())\n",
    "        \n",
    "        ############################\n",
    "        #########  Conv 7  #########\n",
    "        ############################\n",
    "        \n",
    "        # (batch_size, 16, 16, 32) --> (batch_size, 32, 32, 32)\n",
    "    model.add(Conv2D(filters=64, kernel_size=3,\n",
    "                              padding='same',\n",
    "                              activation='relu',\n",
    "                              dilation_rate=1))\n",
    "    model.add(Conv2D(filters=64, kernel_size=3,\n",
    "                              padding='same',\n",
    "                              activation='relu',\n",
    "                              dilation_rate=1))\n",
    "    model.add(Conv2D(filters=64, kernel_size=3,\n",
    "                              padding='same',\n",
    "                              activation='relu',\n",
    "                              dilation_rate=1))\n",
    "    model.add(BatchNormalization())\n",
    "        \n",
    "        ############################\n",
    "        #########  Conv 8  #########\n",
    "        ############################\n",
    "        \n",
    "        # (batch_size, 16, 16, 32) --> (batch_size, 64, 64, 32)\n",
    "    model.add(Conv2DTranspose(filters=32, kernel_size=4,\n",
    "                                       strides=(2, 2),\n",
    "                                       padding='same',\n",
    "                                       activation='relu',\n",
    "                                       dilation_rate=1))\n",
    "    model.add(Conv2DTranspose(filters=32, kernel_size=3,\n",
    "                              strides=(2, 2),\n",
    "                              padding='same',\n",
    "                              activation='relu',\n",
    "                              dilation_rate=1))\n",
    "    model.add(Conv2DTranspose(filters=32, kernel_size=3,\n",
    "                              strides=(2, 2),\n",
    "                              padding='same',\n",
    "                              activation='relu',\n",
    "                              dilation_rate=1))\n",
    "        \n",
    "        ############################\n",
    "        ####  Unary prediction  ####\n",
    "        ############################\n",
    "        \n",
    "        # (batch_size, 64, 64, 32) --> (batch_size, 32, 32, n_bins)\n",
    "    model.add(Conv2D(filters=N_BINS,\n",
    "                               kernel_size=1,\n",
    "                               activation='softmax',\n",
    "                               strides=(1, 1),\n",
    "                               dilation_rate=1))\n",
    "    return model\n",
    "        \n",
    "model = Model()"
   ]
  },
  {
   "cell_type": "code",
   "execution_count": 12,
   "metadata": {},
   "outputs": [],
   "source": [
    "model.load_weights('weights.h5')"
   ]
  },
  {
   "cell_type": "code",
   "execution_count": 13,
   "metadata": {},
   "outputs": [
    {
     "name": "stdout",
     "output_type": "stream",
     "text": [
      "Model: \"sequential_2\"\n",
      "_________________________________________________________________\n",
      "Layer (type)                 Output Shape              Param #   \n",
      "=================================================================\n",
      "conv2d_39 (Conv2D)           (None, 32, 32, 8)         80        \n",
      "_________________________________________________________________\n",
      "conv2d_40 (Conv2D)           (None, 16, 16, 8)         584       \n",
      "_________________________________________________________________\n",
      "batch_normalization_v2_14 (B (None, 16, 16, 8)         32        \n",
      "_________________________________________________________________\n",
      "conv2d_41 (Conv2D)           (None, 16, 16, 16)        1168      \n",
      "_________________________________________________________________\n",
      "conv2d_42 (Conv2D)           (None, 8, 8, 16)          2320      \n",
      "_________________________________________________________________\n",
      "batch_normalization_v2_15 (B (None, 8, 8, 16)          64        \n",
      "_________________________________________________________________\n",
      "conv2d_43 (Conv2D)           (None, 8, 8, 32)          4640      \n",
      "_________________________________________________________________\n",
      "conv2d_44 (Conv2D)           (None, 8, 8, 32)          9248      \n",
      "_________________________________________________________________\n",
      "conv2d_45 (Conv2D)           (None, 4, 4, 32)          9248      \n",
      "_________________________________________________________________\n",
      "batch_normalization_v2_16 (B (None, 4, 4, 32)          128       \n",
      "_________________________________________________________________\n",
      "conv2d_46 (Conv2D)           (None, 4, 4, 64)          18496     \n",
      "_________________________________________________________________\n",
      "conv2d_47 (Conv2D)           (None, 4, 4, 64)          36928     \n",
      "_________________________________________________________________\n",
      "conv2d_48 (Conv2D)           (None, 4, 4, 64)          36928     \n",
      "_________________________________________________________________\n",
      "batch_normalization_v2_17 (B (None, 4, 4, 64)          256       \n",
      "_________________________________________________________________\n",
      "conv2d_49 (Conv2D)           (None, 4, 4, 64)          36928     \n",
      "_________________________________________________________________\n",
      "conv2d_50 (Conv2D)           (None, 4, 4, 64)          36928     \n",
      "_________________________________________________________________\n",
      "conv2d_51 (Conv2D)           (None, 4, 4, 64)          36928     \n",
      "_________________________________________________________________\n",
      "batch_normalization_v2_18 (B (None, 4, 4, 64)          256       \n",
      "_________________________________________________________________\n",
      "conv2d_52 (Conv2D)           (None, 4, 4, 64)          36928     \n",
      "_________________________________________________________________\n",
      "conv2d_53 (Conv2D)           (None, 4, 4, 64)          36928     \n",
      "_________________________________________________________________\n",
      "conv2d_54 (Conv2D)           (None, 4, 4, 64)          36928     \n",
      "_________________________________________________________________\n",
      "batch_normalization_v2_19 (B (None, 4, 4, 64)          256       \n",
      "_________________________________________________________________\n",
      "conv2d_55 (Conv2D)           (None, 4, 4, 64)          36928     \n",
      "_________________________________________________________________\n",
      "conv2d_56 (Conv2D)           (None, 4, 4, 64)          36928     \n",
      "_________________________________________________________________\n",
      "conv2d_57 (Conv2D)           (None, 4, 4, 64)          36928     \n",
      "_________________________________________________________________\n",
      "batch_normalization_v2_20 (B (None, 4, 4, 64)          256       \n",
      "_________________________________________________________________\n",
      "conv2d_transpose_6 (Conv2DTr (None, 8, 8, 32)          32800     \n",
      "_________________________________________________________________\n",
      "conv2d_transpose_7 (Conv2DTr (None, 16, 16, 32)        9248      \n",
      "_________________________________________________________________\n",
      "conv2d_transpose_8 (Conv2DTr (None, 32, 32, 32)        9248      \n",
      "_________________________________________________________________\n",
      "conv2d_58 (Conv2D)           (None, 32, 32, 313)       10329     \n",
      "=================================================================\n",
      "Total params: 514,865\n",
      "Trainable params: 514,241\n",
      "Non-trainable params: 624\n",
      "_________________________________________________________________\n"
     ]
    }
   ],
   "source": [
    "model.summary()"
   ]
  },
  {
   "cell_type": "code",
   "execution_count": 26,
   "metadata": {},
   "outputs": [],
   "source": [
    "def train_generator(n_bins):\n",
    "    while True:\n",
    "        gen = data_generator(train_images, n_bins)\n",
    "        for features, labels in gen:\n",
    "            inputs = []\n",
    "            targets = []\n",
    "            for i in range(BATCH_SIZE):\n",
    "                #print(np.expand_dims(labels, -1)[:,:,0].shape)\n",
    "                inputs.append(np.expand_dims(features, -1))\n",
    "                targets.append(np.expand_dims(labels, -1)[:,:,0])\n",
    "            yield np.array(inputs), np.array(targets)"
   ]
  },
  {
   "cell_type": "code",
   "execution_count": 27,
   "metadata": {},
   "outputs": [],
   "source": [
    "train_gen = train_generator(N_BINS)"
   ]
  },
  {
   "cell_type": "code",
   "execution_count": 28,
   "metadata": {},
   "outputs": [],
   "source": [
    "import datetime\n",
    "\n",
    "class MyCustomCallback(tf.keras.callbacks.Callback):\n",
    "\n",
    "  def on_train_batch_begin(self, batch, logs=None):\n",
    "    print('Training: batch {} begins at {}'.format(batch, datetime.datetime.now().time()))\n",
    "\n",
    "  def on_train_batch_end(self, batch, logs=None):\n",
    "    print('Training: batch {} ends at {}'.format(batch, datetime.datetime.now().time()))\n",
    "\n",
    "  def on_test_batch_begin(self, batch, logs=None):\n",
    "    print('Evaluating: batch {} begins at {}'.format(batch, datetime.datetime.now().time()))\n",
    "\n",
    "  def on_test_batch_end(self, batch, logs=None):\n",
    "    print('Evaluating: batch {} ends at {}'.format(batch, datetime.datetime.now().time()))"
   ]
  },
  {
   "cell_type": "code",
   "execution_count": 43,
   "metadata": {},
   "outputs": [
    {
     "ename": "NameError",
     "evalue": "name 'train_gen' is not defined",
     "output_type": "error",
     "traceback": [
      "\u001b[0;31m---------------------------------------------------------------------------\u001b[0m",
      "\u001b[0;31mNameError\u001b[0m                                 Traceback (most recent call last)",
      "\u001b[0;32m<ipython-input-43-1f1e9c5b93b5>\u001b[0m in \u001b[0;36m<module>\u001b[0;34m()\u001b[0m\n\u001b[1;32m      4\u001b[0m \u001b[0mlast_epoch\u001b[0m \u001b[0;34m=\u001b[0m \u001b[0;36m0\u001b[0m\u001b[0;34m\u001b[0m\u001b[0m\n\u001b[1;32m      5\u001b[0m \u001b[0;34m\u001b[0m\u001b[0m\n\u001b[0;32m----> 6\u001b[0;31m model.fit_generator(train_gen, steps_per_epoch=120000/BATCH_SIZE, verbose=1,\n\u001b[0m\u001b[1;32m      7\u001b[0m                     callbacks=[MyCustomCallback()], epochs=5, initial_epoch=last_epoch)\n\u001b[1;32m      8\u001b[0m \u001b[0;34m\u001b[0m\u001b[0m\n",
      "\u001b[0;31mNameError\u001b[0m: name 'train_gen' is not defined"
     ]
    }
   ],
   "source": [
    "model.compile(optimizer='adam',\n",
    "              loss='sparse_categorical_crossentropy',)\n",
    "\n",
    "last_epoch = 0\n",
    "\n",
    "model.fit_generator(train_gen, steps_per_epoch=120000/BATCH_SIZE, verbose=1,\n",
    "                    callbacks=[MyCustomCallback()], epochs=5, initial_epoch=last_epoch)\n",
    "\n",
    "model.save_weights(\"weights.h5\")"
   ]
  },
  {
   "cell_type": "code",
   "execution_count": 14,
   "metadata": {},
   "outputs": [],
   "source": [
    "test_images = [np.array(data[\"image\"]) for data in test]\n",
    "def test_generator(n_bins):\n",
    "    while True:\n",
    "        gen = data_generator(test_images, n_bins)\n",
    "        for features, labels in gen:\n",
    "            inputs = [np.expand_dims(features, -1)]\n",
    "            yield np.array(inputs)#, np.array(targets)\n",
    "test_gen = test_generator(N_BINS)"
   ]
  },
  {
   "cell_type": "code",
   "execution_count": 17,
   "metadata": {},
   "outputs": [
    {
     "ename": "NameError",
     "evalue": "name 'train_gen' is not defined",
     "output_type": "error",
     "traceback": [
      "\u001b[0;31m---------------------------------------------------------------------------\u001b[0m",
      "\u001b[0;31mNameError\u001b[0m                                 Traceback (most recent call last)",
      "\u001b[0;32m<ipython-input-17-d8f712afccd1>\u001b[0m in \u001b[0;36m<module>\u001b[0;34m()\u001b[0m\n\u001b[0;32m----> 1\u001b[0;31m \u001b[0mimg\u001b[0m \u001b[0;34m=\u001b[0m \u001b[0mnext\u001b[0m\u001b[0;34m(\u001b[0m\u001b[0mtrain_gen\u001b[0m\u001b[0;34m)\u001b[0m\u001b[0;34m\u001b[0m\u001b[0m\n\u001b[0m",
      "\u001b[0;31mNameError\u001b[0m: name 'train_gen' is not defined"
     ]
    }
   ],
   "source": [
    "img = next(train_gen)"
   ]
  },
  {
   "cell_type": "code",
   "execution_count": 41,
   "metadata": {},
   "outputs": [
    {
     "data": {
      "text/plain": [
       "<matplotlib.image.AxesImage at 0x1c3b4bf358>"
      ]
     },
     "execution_count": 41,
     "metadata": {},
     "output_type": "execute_result"
    },
    {
     "data": {
      "image/png": "[encoded data removed]",
      "text/plain": [
       "<Figure size 432x288 with 1 Axes>"
      ]
     },
     "metadata": {
      "needs_background": "light"
     },
     "output_type": "display_data"
    }
   ],
   "source": [
    "plt.imshow(img[0,:,:,0], cmap=\"gray\")"
   ]
  },
  {
   "cell_type": "code",
   "execution_count": 42,
   "metadata": {},
   "outputs": [
    {
     "data": {
      "text/plain": [
       "<matplotlib.image.AxesImage at 0x1c3b5563c8>"
      ]
     },
     "execution_count": 42,
     "metadata": {},
     "output_type": "execute_result"
    },
    {
     "data": {
      "image/png": "[encoded data removed]",
      "text/plain": [
       "<Figure size 432x288 with 1 Axes>"
      ]
     },
     "metadata": {
      "needs_background": "light"
     },
     "output_type": "display_data"
    }
   ],
   "source": [
    "predict = model.predict(img)\n",
    "test_luminance = img[0,:,:,0]\n",
    "test_ab_bins = predict.argmax(axis=3)[0,:,:]\n",
    "test_ab = process_output(test_luminance, test_ab_bins, (32,32), N_BINS)\n",
    "plt.imshow(test_ab)"
   ]
  },
  {
   "cell_type": "code",
   "execution_count": 6,
   "metadata": {
    "scrolled": false
   },
   "outputs": [
    {
     "name": "stdout",
     "output_type": "stream",
     "text": [
      "b'http://static.flickr.com/3079/2297060484_797db096f7.jpg\\r\\nhttp://animal.discovery.com/news/afp/20060123/gallery/tinyfish_zoom.jpg\\r\\nhttp://farm3.static.flickr.com/2210/2513104805_454636c343.jpg\\r\\nhttp://www.fishingnj.org/jpegs/porskele.jpg\\r\\nhttp://farm2.static.flickr.com/1034/815158154_7008c486e9.jpg\\r\\nhttp://www.genomenewsnetwork.org/gnn_images/news_content/11_01/Pufferfish/Pufferfish_T_2.jpg\\r\\nhttp://www.jyi.org/articleimages/288/originals/img0.jpg\\r\\nhttp://www.surreycc.gov.uk/SCCWebsite/SCCWSImages.nsf/WebLookupImageByUNID/docid651322306DE6D22A80257107004A1098/$FILE/Fish-selection.gif\\r\\nhttp://farm3.static.flickr.com/2049/1778134124_32b7519e4b.jpg\\r\\nhttp://kanyemba.com/Images-html/fish.jpg\\r\\nhttp://www.istockphoto.com/file_thumbview_approve/4707715/2/istockphoto_4707715_hard_coral_reef_with_school_of_snappers_ans_sweetlips.jpg\\r\\nhttp://beachhillel.org/wp-content/uploads/Rachel__s_pictures/Yonah_and_the_Fish.JPG\\r\\nhttp://naturopathicretreatcenter.com/images/fish_seafood.jpg\\r\\nhttp://www.valdosta.edu/~ctisby/zoowhaleshark.jpeg\\r\\nhttp://www.officeroutlook.com/news/Science/3356.h11.jpg\\r\\nhttp://www.colemuseum.reading.ac.uk/fish.jpg\\r\\nhttp://pelicanpathway.com/andros/images/fish/soldier-fish.jpg\\r\\nhttp://www.hk-fish.net/gb/fish_of_the_week/Aug/image/Aug_5_fish.jpg\\r\\nhttp://worldofishes.files.wordpress.com/2008/05/gold1.jpg\\r\\nhttp://seattletimes.nwsource.com/ABPub/2006/01/25/2002762100.jpg\\r\\nhttp://farm1.static.flickr.com/78/204251889_8414824136.jpg\\r\\nhttp://www.stieglitz.org/travel/images/fish.jpg\\r\\nhttp://fireflyforest.net/images/firefly/2006/February/feeding-fish.jpg\\r\\nhttp://www.uniquetravelstories.com/Atlantis/Gallery1_2/images/fish.jpg\\r\\nhttp://www.cooking-fish.org/images/riposto-fish-4.jpg\\r\\nhttp://www.nebio.com/images/fwtesting.jpg\\r\\nhttp://farm3.static.flickr.com/2064/2502700881_95a39fc931.jpg\\r\\nhttp://www.hoax-slayer.com/images/fish-with-hands1.jpg\\r\\nhttp://hometown.aol.com/gguyot13/images/chelodina.jpg\\r\\nhttp://static.flickr.com/133/360455656_b2a09c5802.jpg\\r\\nhttp://www.ead.ae/Tacsoft/ImageGallery/News/World/060901-fish-venom_big.jpg\\r\\nhttp://www.ecology.org/ecophoto/fish/Thumbnails/PrimaryCatalog-10520.jpg\\r\\nhttp://mangrove.nus.edu.sg/pub/seashore/photos/235.jpg\\r\\nhttp://www.learner.org/courses/essential/life/images/show2.fish.jpg\\r\\nhttp://bp1.blogger.com/_IveFNaXc6Mo/SIXZLMyqkBI/AAAAAAAACOo/4q0XfhTBoUI/s400/most-expensive-fish-2.jpg\\r\\nhttp://static.flickr.com/55/149939001_f0ee6dcaa1.jpg\\r\\nhttp://farm1.static.flickr.com/114/313670615_f2878ba23c.jpg\\r\\nhttp://animals.timduru.org/dirlist/fish/Bettafish-SiameseFightingFish-Closeup.jpg\\r\\nhttp://blog.joost.com/fish.jpg\\r\\nhttp://farm3.static.flickr.com/2398/2339667917_deed24ccfb.jpg\\r\\nhttp://images.inmagine.com/img/digitalvision/dvs140/dvs140043.jpg\\r\\nhttp://photography.si.edu/upload/Images/md_1279_Image_lipogramma_trilineatum_adul.jpg\\r\\nhttp://www.qualitycrashtests.com/images/branson_2004/images/fish_2.jpg\\r\\nhttp://farm3.static.flickr.com/2120/2144402063_0ed5d20dcd.jpg\\r\\nhttp://www.deepblueutila.com/images/rates_fish.jpg\\r\\nhttp://www.istockphoto.com/file_thumbview_approve/4422385/2/istockphoto_4422385-clown-triggerfish.jpg\\r\\nhttp://www.istockphoto.com/file_thumbview_approve/4638135/2/istockphoto_4638135_saddle_anemonefish_amphiprion_ephippium.jpg\\r\\nhttp://farm2.static.flickr.com/1430/871099666_b39c307700.jpg\\r\\nhttp://farm4.static.flickr.com/3004/2641680658_2d1496e458.jpg\\r\\nhttp://www.fotosearch.com/bthumb/UNN/UNN137/u11840468.jpg\\r\\nhttp://www.sbnature.org/collections/vertebrate/img/fish004.jpg\\r\\nhttp://www.uac.arizona.edu/VSC443/coldblood/99994411F1.JPG\\r\\nhttp://static.flickr.com/31/87931699_34c7fa4d68.jpg\\r\\nhttp://static.flickr.com/3171/2843086000_9c63613dd9.jpg\\r\\nhttp://www.t-rat.com/images/Vertebrate%20Fossils/garfishLive.jpg\\r\\nhttp://farm1.static.flickr.com/87/207726655_8f94caa65f.jpg\\r\\nhttp://static.flickr.com/3035/2348639975_b45a7d6a7c.jpg\\r\\nhttp://static.flickr.com/49/124244118_5cca1f1bea.jpg\\r\\nhttp://www.plowcreek.org/harnish/fish1.jpg\\r\\nhttp://www.grahamdefense.org/Images/beaverlodge-blind-fish.jpg\\r\\nhttp://farm3.static.flickr.com/2371/2235783884_e74d881418.jpg\\r\\nhttp://www-stage.hrw.com/science/si-science/biology/ecology/oceanplanet/img/fish2.jpg\\r\\nhttp://www.fossilmuseum.net/Fossil_Galleries/Green_River_Formation_Fish/Aspiration/asp1007.JPG\\r\\nhttp://www.juejuebie.net/blog/wp-content/uploads/2006/06/live_fish.jpg\\r\\nhttp://www.kaikanani.com/images/fish/fish17.jpg\\r\\nhttp://www.perlgurl.org/archives/blogpics/cichlid.jpg\\r\\nhttp://www.smithsonian.org/oahp/ScientificIllustrators/mud%20fish.JPG\\r\\nhttp://www1.istockphoto.com/file_thumbview_approve/6571184/2/istockphoto_6571184-anemone-fish-in-purple.jpg\\r\\nhttp://www.geoclassics.com/fish/fish_$925_d.jpg\\r\\nhttp://farm3.static.flickr.com/2136/2206041630_ff5fc9fc7d.jpg\\r\\nhttp://www.ehib.org/topics/stripedbass.JPG\\r\\nhttp://static.flickr.com/3256/2575991434_51f2bab293.jpg\\r\\nhttp://farm1.static.flickr.com/126/323858312_7653d69705.jpg\\r\\nhttp://216.139.230.234/store/images/ProdImages/FISH-10177.jpg\\r\\nhttp://farm1.static.flickr.com/155/330238671_4a91d1328b.jpg\\r\\nhttp://static.flickr.com/2203/2191185971_a25e37ae8c.jpg\\r\\nhttp://animals.nationalgeographic.com/staticfiles/NGS/Shared/StaticFiles/animals/images/primary/flying-fish.jpg\\r\\nhttp://static.flickr.com/26/54822896_36cc18d866.jpg\\r\\nhttp://farm4.static.flickr.com/3033/2804736606_779da42d99.jpg\\r\\nhttp://www.crystalinks.com/fishsleep1007.jpg\\r\\nhttp://static.flickr.com/34/123644622_46b22dde36.jpg\\r\\nhttp://www.science-spirit.org/images/17.4images/17.4fish.jpg\\r\\nhttp://farm1.static.flickr.com/229/477761325_d811c8620c.jpg\\r\\nhttp://farm4.static.flickr.com/3110/2296137064_5b86e7358f.jpg\\r\\nhttp://static.flickr.com/2050/1548339337_56d28cf35a.jpg\\r\\nhttp://thedolphinplace.com/images/dolphinfish.jpg\\r\\nhttp://www.fishinghurts.com/photos/fishfarm-hawaii.jpg\\r\\nhttp://static.flickr.com/80/217654474_fa00776b47.jpg\\r\\nhttp://blog.wired.com/wiredscience/images/2008/03/04/hibernatingcod.jpg\\r\\nhttp://www.newscientist.com/data/images/ns/cms/mg18925363.000/mg18925363.000-1_250.jpg\\r\\nhttp://embryology.med.unsw.edu.au/OtherEmb/Images/medaka.jpg\\r\\nhttp://www.visitmaine.com/resource/visitmaine/image/decay/fish_species.jpg\\r\\nhttp://farm2.static.flickr.com/1093/664265897_27d6303a82.jpg\\r\\nhttp://www.austmus.gov.au/sand/images/using/fish.jpg\\r\\nhttp://farm1.static.flickr.com/214/500881393_bfdec35536.jpg\\r\\nhttp://static.flickr.com/48/117824627_07c64b6a6c.jpg\\r\\nhttp://img2.travelblog.org/Photos/1449/8196/f/32699-Smoked-Fish-1.jpg\\r\\nhttp://www.indyzoo.com/uploadedImages/Oceans-school%20of%20fish.jpg\\r\\nhttp://www.nps.gov/npsa/NPSAfish/images/Gobi/eviopras.jpg\\r\\nhttp://www.smithsonianeducation.org/educators/lesson_plans/ocean/images/fish.jpg\\r\\nhttp://www.elmersaquarium.com/image_fish/01%20gourami_paradise_blue.jpg\\r\\nhttp://static.flickr.com/2036/2227430301_5217ae2546.jpg\\r\\nhttp://farm1.static.flickr.com/25/51387793_58d592c6c1.jpg\\r\\nhttp://budak.blogs.com/the_annotated_budak/images/danionella_sp_01_01_1.jpg\\r\\nhttp://www.imageenvision.com/md/stock_photography/a_warmouth_fish_lepomis_gulosus.jpg\\r\\nhttp://www.eatingchina.com/images-recipes/Fish-in-Steamer.jpg\\r\\nhttp://farm2.static.flickr.com/1246/815160598_aa55734964.jpg\\r\\nhttp://nationalzoo.si.edu/Animals/OceanLiving/News/images/progeneticamale.jpg\\r\\nhttp://photography.si.edu/upload/Images/md_1281_Image_lutjanus_apodus_adult.jpg\\r\\nhttp://images.livescience.com/images/061018_gogo_fish_01.jpg\\r\\nhttp://farm3.static.flickr.com/2367/2157262937_dd71c66e9f.jpg\\r\\nhttp://farm2.static.flickr.com/1428/820480653_8e87dd00ea.jpg\\r\\nhttp://www.donsutherland.com/images/65-5%20trunk%20%20fish%20large.jpg\\r\\nhttp://www.ntnu.no/gemini/2000-06e/bilder/20.jpg\\r\\nhttp://tanyasha.com/photos/img/fish/fish04.jpg\\r\\nhttp://static.flickr.com/154/350508008_9165bf3a45.jpg\\r\\nhttp://static.flickr.com/1089/665132471_923175509c.jpg\\r\\nhttp://farm4.static.flickr.com/3260/2325017476_ec7287a3fc.jpg\\r\\nhttp://farm4.static.flickr.com/3174/2569177980_b3f547d3ee.jpg\\r\\nhttp://farm3.static.flickr.com/2019/2411678896_895a555d31.jpg\\r\\nhttp://www.troutnut.com/im_regspec/picture_1278_small.jpg\\r\\nhttp://farm3.static.flickr.com/2105/2351365738_ec4d553400.jpg\\r\\nhttp://www.physorg.com/newman/gfx/news/2005/plainfin72.jpg\\r\\nhttp://www.nilesbio.com/images/categories/C376.jpg\\r\\nhttp://www.dinofish.com/wmgallery/images/fish.jpg\\r\\nhttp://photography.nationalgeographic.com/staticfiles/NGS/Shared/StaticFiles/Photography/Images/Content/unicorn-fish-552434-sw.jpg\\r\\nhttp://www.junglewalk.com/APics/675/BT/209069.jpg\\r\\nhttp://farm2.static.flickr.com/1274/530718433_bf3b841cbc.jpg\\r\\nhttp://farm4.static.flickr.com/3291/2842396785_f3a276c350.jpg\\r\\nhttp://www.islandream.com/photos/mandarin_fish_c.jpg\\r\\nhttp://www.like-fish.com/wp-content/uploads/2008/05/fish2.jpg\\r\\nhttp://www.passivesmarcasm.com/Fish/Catostomus_commersoni_1.jpg\\r\\nhttp://www.kent.k12.wa.us/staff/timlynch/sci_class/chap15/images/Shwhite2.jpg\\r\\nhttp://farm4.static.flickr.com/3192/2459002552_94f036d49b.jpg\\r\\nhttp://earlbenjamin.com/images/Shark.jpg\\r\\nhttp://www.foxnews.com/images/231845/0_41_101806_fish_legs.jpg\\r\\nhttp://www.japanwindow.com/images/20050803052614_050725_nagano-fish0.jpg\\r\\nhttp://www.nhptv.org/natureworks/graphics/fish3sm.jpg\\r\\nhttp://www.jgi.doe.gov/sequencing/why/fugusmall.jpg\\r\\nhttp://www.aps.edu/aps/mission/CyberZoo/Images/damselfish.gif\\r\\nhttp://farm1.static.flickr.com/40/117061381_8d35682cf0.jpg\\r\\nhttp://static.flickr.com/3172/2402169839_6d9c5286ab.jpg\\r\\nhttp://www.harleyseats.com/images/StingRayFish.jpg\\r\\nhttp://farm4.static.flickr.com/3053/2907664187_e08a140000.jpg\\r\\nhttp://www.indodragon.com/forum/attachments/f21/257d1146624234-do-fish-have-brain-too-skfish1.jpg\\r\\nhttp://farm1.static.flickr.com/99/308685799_24b7372482.jpg\\r\\nhttp://farm2.static.flickr.com/1163/1328690550_af16f9b000.jpg\\r\\nhttp://aquat1.ifas.ufl.edu/guide/fish_6.jpg\\r\\nhttp://farm2.static.flickr.com/1437/841570647_ebee144dce.jpg\\r\\nhttp://farm3.static.flickr.com/2298/2063469046_a376c9af92.jpg\\r\\nhttp://farm1.static.flickr.com/156/376498639_ada48e6945.jpg\\r\\nhttp://farm2.static.flickr.com/1071/1076465192_8efaccd7ef.jpg\\r\\nhttp://farm4.static.flickr.com/3056/3028526634_a9ef70bfa4.jpg\\r\\nhttp://norb.homedns.org/nwp/storycode/dep-web/thumbnails/thumb-1.jpg\\r\\nhttp://farm2.static.flickr.com/1084/892454941_56fd34ac3c.jpg\\r\\nhttp://photography.si.edu/upload/Images/md_1239_Image_canthigaster_rostrata_infla.jpg\\r\\nhttp://farm3.static.flickr.com/2041/2424519531_7ee26f9cf0.jpg\\r\\nhttp://www.gnome.org/~federico/news-photos/basil-fish-4.jpg\\r\\nhttp://www.timespub.tc/fileadmin/user_upload/Watersports/Winter%20200506/BlackbarSoldierfish.gif\\r\\nhttp://farm4.static.flickr.com/3076/2575766896_ddbe6bf0d6.jpg\\r\\nhttp://farm4.static.flickr.com/3163/2537653249_c7cec046ba.jpg\\r\\nhttp://farm3.static.flickr.com/2332/2272989952_33d7fb71bf.jpg\\r\\nhttp://www.funnycoolstuff.com/images/big-fish.jpg\\r\\nhttp://pet.fj.vnet.cn/archives/article/2008/1217838578_smy.jpg\\r\\nhttp://www.epa.qld.gov.au/wetlandinfo/resources/static/images/RandomStripeyFishinrandomstormdrainCroydon.jpg\\r\\nhttp://images.livescience.com/images/top10_weather_rain_fish.jpg\\r\\nhttp://farm1.static.flickr.com/51/145765839_b4014dbadc.jpg\\r\\nhttp://farm1.static.flickr.com/127/318286164_c99bd08503.jpg\\r\\nhttp://farm1.static.flickr.com/95/276196987_59e6496116.jpg\\r\\nhttp://farm1.static.flickr.com/171/396421760_8d0feea25e.jpg\\r\\nhttp://farm3.static.flickr.com/2254/2753013672_939f51044a.jpg\\r\\nhttp://www.ucmp.berkeley.edu/vertebrates/actinopterygii/fringetail2.gif\\r\\nhttp://static.flickr.com/1266/665987840_5881f6f78e.jpg\\r\\nhttp://farm1.static.flickr.com/12/13889764_8a45f4dbe9.jpg\\r\\nhttp://www.shamsu.net/image/bigfish4.jpg\\r\\nhttp://farm4.static.flickr.com/3181/3007776744_0999d3c240.jpg\\r\\nhttp://www.fishpondinfo.com/photos/ponds/bigpond/fish0403.jpg\\r\\nhttp://www.greenvalleyhs.org/gvhs/studentpages/Marine%20Science_Zoology/deep-sea-fish_web3.jpg\\r\\nhttp://farm3.static.flickr.com/2193/2494773644_6ba591d1b3.jpg\\r\\nhttp://farm1.static.flickr.com/127/368884655_9e871794a5.jpg\\r\\nhttp://farm2.static.flickr.com/1203/1091456224_e1a0576972.jpg\\r\\nhttp://static.flickr.com/40/81531489_eaf3e5d031.jpg\\r\\nhttp://farm4.static.flickr.com/3284/2684284300_dc64dca846.jpg\\r\\nhttp://farm4.static.flickr.com/3121/2800577987_f822313301.jpg\\r\\nhttp://farm1.static.flickr.com/115/253145704_9de50c303f.jpg\\r\\nhttp://farm4.static.flickr.com/3072/2534740927_d2fa180656.jpg\\r\\nhttp://www.lehsd.k12.nj.us/virtualcom/rutgers/disk%201/greg%20-%20female%20fish.jpg\\r\\nhttp://farm1.static.flickr.com/56/107411574_7408d2e999.jpg\\r\\nhttp://farm1.static.flickr.com/109/311477977_4cdbef4f0d.jpg\\r\\nhttp://www.dreamstime.com/coy-fish-thumb24764\\r\\nhttp://static.flickr.com/45/109835344_9457a493ee.jpg\\r\\nhttp://www.firesignartanddesign.com/blue-fish-card.gif\\r\\nhttp://static.flickr.com/205/446301999_fdcde81f7e.jpg\\r\\nhttp://www.mcps.k12.md.us/schools/strawberryknolles/Gr/fish.jpg\\r\\nhttp://farm2.static.flickr.com/1138/1410568671_0ae2a71dd0.jpg\\r\\nhttp://www.thebest3d.com/dogwaffle/dotm/frogdot/fish.jpg\\r\\nhttp://ndow.org/images/memory/fish_pyramid_clint_grinsell.jpg\\r\\nhttp://www.kingfishaquarium.com/fish_scene.JPG\\r\\nhttp://farm1.static.flickr.com/124/323858309_995d644e95.jpg\\r\\nhttp://www.jpl.nasa.gov/images/topex/topex_fish_browse.jpg\\r\\nhttp://7art-screensavers.com/screenshots/fish/big-eyed-fish.jpg\\r\\nhttp://scienceblogs.com/notrocketscience/Bass7LR.jpg\\r\\nhttp://richardpchapman.com/images/gallery/madeira_fish.gif\\r\\nhttp://farm3.static.flickr.com/2401/1509034543_c4643615a4.jpg\\r\\nhttp://home.comcast.net/~jleblanc77/cube/fish2.jpg\\r\\nhttp://www.savant-health.com/img/Fish.jpg\\r\\nhttp://www.newstarget.com/gallery/food/marketfresh/fish.jpg\\r\\nhttp://farm4.static.flickr.com/3143/2966596415_4283251fca.jpg\\r\\nhttp://farm4.static.flickr.com/3114/2308587193_63aa65eae1.jpg\\r\\nhttp://www.like-fish.com/wp-content/uploads/2008/05/fish1.jpg\\r\\nhttp://static.flickr.com/1097/1072504254_936f7dd781.jpg\\r\\nhttp://farm4.static.flickr.com/3228/2739660499_343ae0df3d.jpg?v=0\\r\\nhttp://www.biology-blog.com/images/blogs/2-2007/clown-fish-13660.jpg\\r\\nhttp://farm4.static.flickr.com/3211/2778144364_3882500830.jpg\\r\\nhttp://farm3.static.flickr.com/2049/2148042194_332f090550.jpg\\r\\nhttp://z.about.com/d/lds/1/0/c/4/fish.gif\\r\\nhttp://farm1.static.flickr.com/26/94583243_d51b79d8e5.jpg\\r\\nhttp://www.charliemoore.com/images/5-pound-bass/big-king-fish.jpg\\r\\nhttp://www.matthewhuppatz.com/fish/fish_0004_Layer%203.jpg\\r\\nhttp://www.janeresture.com/amsamoa/fish.jpg\\r\\nhttp://farm1.static.flickr.com/15/69845648_23106b284c.jpg\\r\\nhttp://farm1.static.flickr.com/28/50223008_344e469e80.jpg\\r\\nhttp://www.deepseaimages.com/dsilibrary/data/705/thumbs/KRDUW0012_cardinalfish_.jpg\\r\\nhttp://images.quickblogcast.com/66244-58060/Rick_LOC_fish.jpg\\r\\nhttp://farm1.static.flickr.com/184/446269374_7acbfa7478.jpg\\r\\nhttp://farm1.static.flickr.com/52/135790676_eb951fdb91.jpg\\r\\nhttp://farm4.static.flickr.com/3193/2379518764_8842e8a6b0.jpg\\r\\nhttp://www.inkycircus.com/jargon/images/anchovy_fish_3.jpg\\r\\nhttp://farm4.static.flickr.com/3171/3049911756_91df5095c0.jpg\\r\\nhttp://farm4.static.flickr.com/3015/2528065846_abb1d3b9df.jpg\\r\\nhttp://www.handsofhopedisasterreliefservices.org/b2b/pics/Bomb_Fish.jpg\\r\\nhttp://farm3.static.flickr.com/2094/1559894622_b9edd4cca1.jpg\\r\\nhttp://7art-screensavers.com/screenshots/fish/neo-clown-fish.jpg\\r\\nhttp://www.at-sea.org/missions/fathoming/features/images/fig12.jpg\\r\\nhttp://www.wwf.org.hk/images/hoihawan/gallery/fish/4.-Clown-fish_Katherine.jpg\\r\\nhttp://www.eilat-guide.com/images/attractions/fish_coral.jpeg\\r\\nhttp://farm3.static.flickr.com/2207/2180261710_c44db6e239.jpg\\r\\nhttp://farm1.static.flickr.com/196/511908249_a1043611cc.jpg\\r\\nhttp://frank.harvard.edu/~howard/photo/australia02/cairns/scuba_under_water/images/fish_closeup2.jpg\\r\\nhttp://www.esd.ornl.gov/BMAP/images/fish2.jpg\\r\\nhttp://farm1.static.flickr.com/151/437947270_e51ad63a25.jpg\\r\\nhttp://static.flickr.com/1314/1331805369_5efc3aa17c.jpg\\r\\nhttp://farm2.static.flickr.com/1168/645036393_33647b1848.jpg\\r\\nhttp://www.photosnewengland.com/catalog/images/tropical_fish.jpg\\r\\nhttp://www.copyright-free-pictures.org.uk/tropical-marine-fish/electric-blue-damsel-fish.jpg\\r\\nhttp://photography.nationalgeographic.com/staticfiles/NGS/Shared/StaticFiles/Photography/Images/Content/tuamotu-butterfly-fish-513648-sw.jpg\\r\\nhttp://static.flickr.com/14/94047616_055b8cbf27.jpg\\r\\nhttp://www.nmnh.si.edu/rtp/students/2006/images/zoo_day_fish11.jpg\\r\\nhttp://fig.cox.miami.edu/~cmallery/150/special/zebrafish.jpg\\r\\nhttp://blogs.discovermagazine.com/discoblog/files/2008/10/fishweb.gif\\r\\nhttp://static.flickr.com/3211/2780501027_d763f11910.jpg\\r\\nhttp://static.flickr.com/1379/665132059_2d85c9fc6f.jpg\\r\\nhttp://farm2.static.flickr.com/1111/809764044_a5d8729892.jpg\\r\\nhttp://www.marionpoutanen.com/wp-content/uploads/2007/01/fish.JPG\\r\\nhttp://norwayhills.com/images/fish33.jpg\\r\\nhttp://www.geoclassics.com/fish/fish_$130_da.jpg\\r\\nhttp://www.hbcompany.com/ago/images/fish.JPG\\r\\nhttp://farm3.static.flickr.com/2127/2402999370_ff991d3795.jpg\\r\\nhttp://padens.com/fiji_topside/images/fish%20in%20stream.jpg\\r\\nhttp://static.flickr.com/8/9278612_23cc4a007d.jpg\\r\\nhttp://www.cmnaquatics.com/FoBlackParadiseFish.jpg\\r\\nhttp://farm4.static.flickr.com/3256/2399488979_6d4ea9c5a8.jpg\\r\\nhttp://www.international.mq.edu.au/globe/admin/images/Edition%2045,%202006/Lung%20fish%202.jpg\\r\\nhttp://www.freeimage4u.com/images/fish8.jpg\\r\\nhttp://pinkrabbitsays.typepad.com/photos/70_december_2004/jesus_fish.jpg\\r\\nhttp://static.flickr.com/152/381745365_dda5be4caf.jpg\\r\\nhttp://static.flickr.com/2278/2271871954_60ca9c9f00.jpg\\r\\nhttp://sinogold.en.alibaba.com/img/buyoffer/206913596/buy_ribbon_fish.jpg\\r\\nhttp://www.pbs.org:0/wgbh/nova/fish/images/othe-bowfin.jpg\\r\\nhttp://msnbcmedia4.msn.com/j/msnbc/Components/Photo_StoryLevel/080402/080331-science-fish-hmed-645p.hmedium.jpg\\r\\nhttp://static.flickr.com/51/110688112_1b9a4f6d4a.jpg\\r\\nhttp://www.3planesoft.com/img/fish_screen01.jpg\\r\\nhttp://static.flickr.com/2254/2753013672_939f51044a.jpg\\r\\nhttp://www.allhatnocattle.net/parrot%20fish.jpg\\r\\nhttp://www.canceractive.com/images/fish.jpg\\r\\nhttp://static.flickr.com/52/142081416_c1c4890b21.jpg\\r\\nhttp://farm4.static.flickr.com/3005/3055986750_cb89afd14e.jpg\\r\\nhttp://static.flickr.com/1426/960180866_9efeff58a2.jpg\\r\\nhttp://i1.trekearth.com/photos/12746/fish_market_krabie_11sm.jpg\\r\\nhttp://www.aso.com/highperf/fish-9.jpg\\r\\nhttp://photography.nationalgeographic.com/staticfiles/NGS/Shared/StaticFiles/Photography/Images/Content/tuamotu-butterfly-fish-513648-ga.jpg\\r\\nhttp://farm3.static.flickr.com/2161/2374587647_c4b3006326.jpg\\r\\nhttp://pinker.wjh.harvard.edu/photos/spain/images/fish.jpg\\r\\nhttp://www.samford.edu/schools/artsci/biology/vertzoo-03s/images/MosquitofishwithCercaria.jpg\\r\\nhttp://www.fishing.net.nz/userfiles/customers/4388/Gt%20Barrier%20casuals%20trip%20April%2008%20-%20Fish%20on%20deck-500w.JPG\\r\\nhttp://www.webindia123.com/territories/lakshadweep/golden_fish_-lagoon.jpg\\r\\nhttp://www.animalcorner.co.uk/marine/fish/graphics/angel_emperor.jpg\\r\\nhttp://static.flickr.com/3174/2918236793_8d9a7e60f4.jpg\\r\\nhttp://www.forks.wednet.edu/wvc/cadre/WaterQuality/salmonidecology/a-Images/p-rockfish.jpg\\r\\nhttp://farm4.static.flickr.com/3025/2934058754_4c52d36143.jpg\\r\\nhttp://www.livefishfoodshop.com/images/aquarium.jpg\\r\\nhttp://www.geocities.com/sappayakon/image/fish.jpg\\r\\nhttp://farm1.static.flickr.com/69/369525381_b9bb7cc7e8.jpg\\r\\nhttp://www.samford.edu/schools/artsci/biology/zoology/vertzoo-06s/cahabavalley/thumbnails/tredear-sunfish.jpg\\r\\nhttp://www.westernshastarcd.org/fish1.jpg\\r\\nhttp://www.wildnature.us/images/page/clown-fish-600.jpg\\r\\nhttp://foodluvin.com/wp-content/uploads/2008/08/10_best_worst_fish1.jpg\\r\\nhttp://inhissteps.gospelcom.net/images/fish.jpg\\r\\nhttp://static.flickr.com/20/73747072_702d871fa9.jpg\\r\\nhttp://www.floridakeys.com/florida-keys-photos/fish.jpg\\r\\nhttp://www.dwazoo.com/images/tours/pacu01.jpg\\r\\nhttp://farm1.static.flickr.com/92/234444891_ece97a1b80.jpg\\r\\nhttp://static.flickr.com/2215/2430953357_fe056b79d8.jpg\\r\\nhttp://farm1.static.flickr.com/134/325562036_426637e93a.jpg\\r\\nhttp://static.flickr.com/3229/2789522891_937b044428.jpg\\r\\nhttp://www.animalcorner.co.uk/marine/fish/graphics/angel_lemonpeel.jpg\\r\\nhttp://www.latvijasdaba.lv/1/thisimg/d-27.jpg\\r\\nhttp://salinella.bio.uottawa.ca/BIO2135/lectures/Images/fish.gif\\r\\nhttp://farm4.static.flickr.com/3184/3069895838_0b222d6e20.jpg\\r\\nhttp://bp0.blogger.com/_ss_7FuUYy6A/SA_sAgzNnxI/AAAAAAAAD_o/N3dcxg_Y6hM/s320/miracle_fish_patel2.jpg\\r\\nhttp://farm4.static.flickr.com/3057/2572612974_676d2d2d52.jpg\\r\\nhttp://farm4.static.flickr.com/3214/2742364016_19b45404e0.jpg\\r\\nhttp://farm2.static.flickr.com/1428/1452134921_16b7f24e19.jpg\\r\\nhttp://zoologi.snm.ku.dk/forskning/vertebrates/sections/ichthyological_section/havkattelupusandthalassiobathia.jpg/\\r\\nhttp://www.aqua-fish.net/imgs/fish1/oscar-fish-3.jpg\\r\\nhttp://darb.net/20627-2/dragon_fish.jpg\\r\\nhttp://farm2.static.flickr.com/1422/674392252_981de65503.jpg\\r\\nhttp://www.practicalfishkeeping.co.uk/pfk/images/pty_oligacanthus1.jpg\\r\\nhttp://img2.travelblog.org/Photos/15934/102537/f/676390-Fish-2-0.jpg\\r\\nhttp://static.flickr.com/1056/1076719068_b04c6020be.jpg\\r\\nhttp://www.epa.vic.gov.au/water/coasts/contentpix/Fish_A-large.jpg\\r\\nhttp://static.flickr.com/35/99483570_9235a410c7.jpg\\r\\nhttp://www.egypttoursandtravel.com/images/stripedfish.JPG\\r\\nhttp://www.alcowebdesign.com/muskymania/images/MM36%20Corey%20Earl%2040.5%20Sat%20winning%20fish.jpg\\r\\nhttp://www.bequiadiveadventures.com/images/fishgallery/Bat_Fish.jpg\\r\\nhttp://static.flickr.com/3084/2892191402_902c58d906.jpg\\r\\nhttp://static.flickr.com/1252/1454542678_21f2ba6eb9.jpg\\r\\nhttp://idahoptv.org/dialogue4kids/season7/fish/images/fish2.jpg\\r\\nhttp://www.endangeredspeciesinternational.org/images/sideimage_fish.jpg\\r\\nhttp://farm1.static.flickr.com/115/265587219_1c70df7cf5.jpg\\r\\nhttp://www.chem.unep.ch/MERCURY/images/photoes/tuna-fish2022.jpg\\r\\nhttp://farm3.static.flickr.com/2043/2053714780_65daad4f96.jpg\\r\\nhttp://www.at-sea.org/missions/fathoming/features/images/fig10.jpg\\r\\nhttp://www.imnsr.com/NewsImages/5396.jpg\\r\\nhttp://www.ecosyn.us/ecocity/Challenges/drought/2-fish.jpg\\r\\nhttp://www.eastportboatclub.com/sitebuilder/images/Ugly_Fish-295x219.jpg\\r\\nhttp://www.seakayakadventures.com/images/king-angel-fish.jpg\\r\\nhttp://static.flickr.com/1276/884727785_de883b084c.jpg\\r\\nhttp://static.flickr.com/127/368884655_9e871794a5.jpg\\r\\nhttp://static.flickr.com/232/488298091_e19147cf39.jpg\\r\\nhttp://static.flickr.com/64/216718034_b6759ea2a8.jpg\\r\\nhttp://www.divetrip.com/photos/mandarin_fish_a.jpg\\r\\nhttp://www.cnn.com/nature/9908/06/invincible.fish/invincible.fish.jpg\\r\\nhttp://www.seasky.org/stuff/assets/wallpaper_sea/ButterflyFish_1024.jpg\\r\\nhttp://www.sevcikphoto.com/images/fish-harvest-vylov-4.jpg\\r\\nhttp://cafnr.missouri.edu/images/news/fish-tank.jpg\\r\\nhttp://algorithm.com/inwit/writings/fish.jpg\\r\\nhttp://matthewsseafood.com/Images/Products/filet_fish.jpg\\r\\nhttp://static.flickr.com/2092/1580657964_473d5bc6a7.jpg\\r\\nhttp://www.ens-newswire.com/ens/jan2006/20060107_fish.jpg\\r\\nhttp://static.flickr.com/2248/2067187468_c9206d5c8a.jpg\\r\\nhttp://i.livescience.com/images/080501-tiger-fish-02.jpg\\r\\nhttp://static.flickr.com/33/63162921_ec6110b46d.jpg\\r\\nhttp://seal-asia.com/galleries/diving-burma/fish-school.jpg\\r\\nhttp://farm2.static.flickr.com/1323/539636151_56078e6e85.jpg\\r\\nhttp://media-cdn.tripadvisor.com/media/photo-s/00/1a/9c/9a/our-pet-fish-for-the.jpg\\r\\nhttp://static.flickr.com/2333/2220709399_cac140eba7.jpg\\r\\nhttp://jrscience.wcp.muohio.edu/Photos/GoatFishNightTime96.jpeg\\r\\nhttp://www.cns.fr/externe/Images/photo_tetraodon.jpg\\r\\nhttp://bp2.blogger.com/_Is-jjlIfEog/Ryf2EpUvNeI/AAAAAAAAANI/Ts1xQFgBD9U/s1600/fish_1186.jpg\\r\\nhttp://www.uniteddivers.com/graphics/bright_fish_med.gif\\r\\nhttp://static.flickr.com/25/52454836_2e4446402a.jpg\\r\\nhttp://www.topnews.in/files/Prehistoric-fish.jpg\\r\\nhttp://static.flickr.com/2106/2191181319_ef871eebde.jpg\\r\\nhttp://www.focs.ca/reports/images/fish.jpg\\r\\nhttp://www.forfun.us/funpic/1178367515-One-happy-fish-Picture-Gallery.jpg\\r\\nhttp://www.freeimage4u.com/images/fish1.jpg\\r\\nhttp://www.sovarepsou.com/sovarepsou/wp-content/photos/orig_huge_fish.jpg\\r\\nhttp://farm1.static.flickr.com/21/34919583_b196d4ad2b.jpg\\r\\nhttp://static.flickr.com/1/121693233_a9e550bd0c.jpg\\r\\nhttp://publicradioredux.com/sites/default/files/Fish%20teeth.jpg\\r\\nhttp://www.henrysmarkets.com/content/raw-fish.jpg\\r\\nhttp://farm3.static.flickr.com/2416/1502934435_97b03e5201.jpg\\r\\nhttp://farm1.static.flickr.com/57/199860412_746e0deff1.jpg\\r\\nhttp://www.jawoodhouse.co.uk/Fish3.jpg\\r\\nhttp://www.mathiyosae.com/updated-fish-tank.jpg\\r\\nhttp://farm2.static.flickr.com/1306/815162894_bdae43818f.jpg\\r\\nhttp://static.flickr.com/2190/2320046388_19c1cd4ff4.jpg\\r\\nhttp://www.discuspro.com/photo/photos/800x600/discus-fish-3-800x600.jpg\\r\\nhttp://www.holar.is/%7Eaquafarmer/eye.jpg\\r\\nhttp://static.flickr.com/38/121693274_b4948638f1.jpg\\r\\nhttp://www.cff.org/UploadedImages/ChapterImages-Colorado/fish1.JPG\\r\\nhttp://medicineworld.org/images/blogs/fish-and-fish-oil-6110020.jpg\\r\\nhttp://www.wallpaperbase.com/wallpapers/animals/fish/fish_5.jpg\\r\\nhttp://static.flickr.com/32/52771575_dcf3f9f37a.jpg\\r\\nhttp://www.divetrip.com/photos/mandarin_fish02.jpg\\r\\nhttp://www.recreationcampbellriver.com/images/fishjumping.jpg\\r\\nhttp://www.mongabay.com/images/calacademy/600/leaf_fish.jpg\\r\\nhttp://farm2.static.flickr.com/1358/842452708_79fb24a51b.jpg\\r\\nhttp://farm1.static.flickr.com/212/479863841_b771d396aa.jpg\\r\\nhttp://www.cokidive.com/Images/fish-group.jpg\\r\\nhttp://www.biol.andrews.edu/everglades/organisms/Vertebrates/Fish/Lizardfish/lizardfish_vental_view.jpg\\r\\nhttp://farm1.static.flickr.com/157/422368624_38ecede10a.jpg\\r\\nhttp://www.feldoncentral.com/Sachs/images/stories/wishlist/fish/Purple%20Fire%20Gobi.jpg\\r\\nhttp://static.flickr.com/1353/1071786053_10d823794d.jpg\\r\\nhttp://www.theoffside.com/wp-content/uploads/2007/01/fish-toilet.jpg\\r\\nhttp://static.flickr.com/50/132064383_a0cd7b2c12.jpg\\r\\nhttp://www.manleylabs.com/images/DIVE/littlefish.jpg\\r\\nhttp://sbs.arizona.edu/development/depts/dev_anthro.jpg\\r\\nhttp://www.in-fisherman.com/magazine/articles/IFM0404_FeedbackB.jpg\\r\\nhttp://www.vailspa.com/images/fly%20fish.jpg\\r\\nhttp://miamicharters.com/2002/vessels/images/marlin-fish.jpg\\r\\nhttp://farm4.static.flickr.com/3194/2900478394_fddae2408d.jpg\\r\\nhttp://www.coolantarctica.com/Bases/Signy/images_lg/315-0ice_fish2-Ward-P-1985-.jpg\\r\\nhttp://www.trc.org.ls/images/events_pictures/fish032006.jpg\\r\\nhttp://static.flickr.com/3262/2743173402_6209e2c068.jpg\\r\\nhttp://www.wallpaperbase.com/wallpapers/animals/fish/fish_7.jpg\\r\\nhttp://static.flickr.com/3249/2716549076_3829a78e6b.jpg\\r\\nhttp://blog.liverpoolmuseums.org.uk/graphics/clown_fish_tank.jpg\\r\\nhttp://www.expreference.com/uploaded_images/tokyo-fish-773455.jpg\\r\\nhttp://www.danheller.com/images/LatinAmerica/Mexico/Mulege/fish-bones01-big.jpg\\r\\nhttp://www.bio.vu.nl/vakgroepen/genetica/Research-projects-new/Projects_Souer/Images-Souer/FISH.JPG\\r\\nhttp://i.livescience.com/images/ig54_smooth_trunk_fish_02.jpg\\r\\nhttp://farm3.static.flickr.com/2140/1663252875_a335828ce6.jpg\\r\\nhttp://farm3.static.flickr.com/2091/2185210900_c202ebb1eb.jpg\\r\\nhttp://static.flickr.com/132/361650439_ca04de09be.jpg\\r\\nhttp://static.flickr.com/3272/2622266943_81a250c66f.jpg\\r\\nhttp://static.flickr.com/42/84807782_ed121f1a5c.jpg\\r\\nhttp://farm4.static.flickr.com/3034/2739666303_87b51c808a.jpg\\r\\nhttp://farm2.static.flickr.com/1438/867310868_93af3babd8.jpg\\r\\nhttp://watercenter.montana.edu/gallery/images/fish01_300.jpg\\r\\nhttp://media-cdn.tripadvisor.com/media/photo-s/00/15/79/c7/some-weird-fish.jpg\\r\\nhttp://farm2.static.flickr.com/1381/562545934_e75a1478a8.jpg\\r\\nhttp://www.ancoeaglin.com/images/body_images/fish_image.jpg\\r\\nhttp://farm2.static.flickr.com/1376/558895576_5a27395e07.jpg\\r\\nhttp://static.flickr.com/1147/1482568430_c537e4d440.jpg\\r\\nhttp://arabiclenses.com/gallary/data/2/fish.jpg\\r\\nhttp://farm2.static.flickr.com/1425/803451751_e955597097.jpg\\r\\nhttp://farm2.static.flickr.com/1257/815164156_b2a525636b.jpg\\r\\nhttp://www.kidport.com/RefLib/Science/SeaAnimals/images/Fish.JPG\\r\\nhttp://static.flickr.com/38/95031205_888636ba05.jpg\\r\\nhttp://www.usara.net/Photo/Photo03/Photo03aImg/FishW1.jpg\\r\\nhttp://static.flickr.com/31/51673229_b89f0c6c1a.jpg\\r\\nhttp://i1.trekearth.com/photos/12361/lion_fish.jpg\\r\\nhttp://static.flickr.com/3200/2397035850_bd12c2ee2f.jpg\\r\\nhttp://farm4.static.flickr.com/3071/2943850355_0c45dc81ef.jpg\\r\\nhttp://www.finegardenproducts.com/fgp/customer/images/products/images/BB-FIGHTING FISH_ni.jpg\\r\\nhttp://farm1.static.flickr.com/128/393775446_389c4d56a6.jpg\\r\\nhttp://farm4.static.flickr.com/3220/2945349943_4ab405e4be.jpg\\r\\nhttp://news.bbc.co.uk/media/images/39408000/jpg/_39408934_fish150.jpg\\r\\nhttp://static.flickr.com/3007/2835592841_ef8703fdd5.jpg\\r\\nhttp://www.thebestlinks.com/images/thumb/5/52/250px-Large_white_shark.jpg\\r\\nhttp://farm1.static.flickr.com/25/61562614_fe49f0392b.jpg\\r\\nhttp://farm2.static.flickr.com/1028/1313391030_8c9044b877.jpg\\r\\nhttp://static.flickr.com/7/9852204_d957ee94ff.jpg\\r\\nhttp://www.riverlaw.us/images/381_guke_fish.jpg\\r\\nhttp://www.digitaluniverse.net/images/22053/284x0/scale/Teleost_(Fish).jpg\\r\\nhttp://farm2.static.flickr.com/1009/665987460_36a4241696.jpg\\r\\nhttp://elmersaquarium.com/image_fish/01_Tetra_RED_PHANTOM_female.jpg\\r\\nhttp://www.nbii.gov/portal/server.pt/gateway/PTARGS_6_2_11866_1115_3563_43/http%3B/PUBLIC-CONTENT%3B7087/publishedcontent/publish/geographic/central_sw_gulf/gulf_of_mexico/fish_and_invertebrates/fishes_3.jpg\\r\\nhttp://static.flickr.com/2033/2108806723_36996f938f.jpg\\r\\nhttp://static.flickr.com/39/87338113_8d1f603334.jpg\\r\\nhttp://farm1.static.flickr.com/56/145112869_fe34f00c8b.jpg\\r\\nhttp://www.scseagrant.org/se-cosee/assets/fish_shadow.jpg\\r\\nhttp://www.whatsnextblog.com/archives/fish_story.jpg\\r\\nhttp://www.thewallpapers.us/data/media/763/fish.jpg\\r\\nhttp://dataguru.org/misc/aquarium/FishGizmo040524h.jpg\\r\\nhttp://www.kidport.com/RefLib/science/SeaAnimals/images/FishSchool.jpg\\r\\nhttp://www.chugachpowderguides.com/fish.jpg\\r\\nhttp://z.about.com/d/pittsburgh/1/7/p/Q/fish_1.jpg\\r\\nhttp://farm1.static.flickr.com/62/191708444_99d26575e0.jpg\\r\\nhttp://i0.sinaimg.cn/IT/h/2007-12-26/4441ca168ee948ca6180a42add8144cd.jpg\\r\\nhttp://coastal.er.usgs.gov/navassa/photos/sp/scuba/Fish.jpg\\r\\nhttp://static.flickr.com/2362/2237105709_5c81ed1490.jpg\\r\\nhttp://seasancarlos.com/img/illus/conus_purpurascens.jpg\\r\\nhttp://static.flickr.com/1045/1139222760_b78619df0e.jpg\\r\\nhttp://farm1.static.flickr.com/3/3894946_1878fe15a5.jpg\\r\\nhttp://hem.bredband.net/sim1travels1/Dsc05274_Fish2_VT.jpg\\r\\nhttp://www.hawaii.edu/fishlab/Mempachi.jpg\\r\\nhttp://pelagic.org/biology/guitar.jpg\\r\\nhttp://farm3.static.flickr.com/2247/1507784844_ce6cbf1fb1.jpg\\r\\nhttp://img.timeinc.net/time/daily/2002/0207/fish0729.jpg\\r\\nhttp://static.flickr.com/2317/2428668816_4cd7858412.jpg\\r\\nhttp://www.sciam.com/media/inline/blog/Image/midshipman-fish.jpg\\r\\nhttp://oceanexplorer.noaa.gov/explorations/05fire/logs/may06/media/fish_pillowlava_600.jpg\\r\\nhttp://farm1.static.flickr.com/63/202883399_bc671f003f.jpg\\r\\nhttp://moorsresort.com/marina/fish01.jpg\\r\\nhttp://www.bigfoto.com/themes/nature/underwater/shoal-of-fish-48f.jpg\\r\\nhttp://farm1.static.flickr.com/45/147756916_cfb156f8ec.jpg\\r\\nhttp://sciencelog.edublogs.org/files/2008/04/fish1.gif\\r\\nhttp://www.nilesbio.com/images/categories/C377.jpg\\r\\nhttp://farm3.static.flickr.com/2139/2048746724_0169317c5f.jpg\\r\\nhttp://www.fedflyfishers.org/Portals/0/Conservation%20Images/Fish_Fly_Williams.JPG\\r\\nhttp://homepage.mac.com/wildlifeweb/fish/pineapple/pineapple_fish01tfk.jpg\\r\\nhttp://farm1.static.flickr.com/13/91941271_195817ccb4.jpg\\r\\nhttp://farm1.static.flickr.com/54/137246296_0b9bb6a03e.jpg\\r\\nhttp://static.flickr.com/3076/2783455510_daa493a1bc.jpg\\r\\nhttp://static.flickr.com/3271/2328184167_cfe47ccf63.jpg\\r\\nhttp://cpl.cc.gatech.edu/projects/graphcuttextures/data/fish/fish_itercorr_anim.gif\\r\\nhttp://www.sciencepunk.com/v5/gallery/cod_fish1.jpg\\r\\nhttp://farm2.static.flickr.com/1395/1299313977_be94f15b3c.jpg\\r\\nhttp://appserv02.uncw.edu/news/custom/fish_swim_hires.jpg\\r\\nhttp://www.samford.edu/schools/artsci/biology/zoology/vertzoo-06s/cahabariver/thumbnails/tgreenbreast-darter.jpg\\r\\nhttp://static.flickr.com/53/138551854_a4d560576b.jpg\\r\\nhttp://farm3.static.flickr.com/2095/2083873320_53ff1475fb.jpg\\r\\nhttp://www.k12.hi.us/~jaishika/webquest/oceanimages/fishschool.jpg\\r\\nhttp://www.freeimage4u.com/images/fish12.jpg\\r\\nhttp://farm4.static.flickr.com/3051/2586389685_0a9ee3e0f7.jpg\\r\\nhttp://www.azgardens.com/images/LeopardFish.gif\\r\\nhttp://static.flickr.com/213/510179781_3e760645f1.jpg\\r\\nhttp://oceanexplorer.noaa.gov/explorations/05fire/logs/april18/media/fish_school_600.jpg\\r\\nhttp://farm2.static.flickr.com/1213/831100734_ddbd32745a.jpg\\r\\nhttp://farm3.static.flickr.com/2068/2204947676_05e4a899f3.jpg\\r\\nhttp://www.the40yearplan.com/img/male/male_fish_market_floor.jpg\\r\\nhttp://static.flickr.com/1238/560131622_439608cd72.jpg\\r\\nhttp://static.flickr.com/5/4623330_9d84646ba2.jpg\\r\\nhttp://farm1.static.flickr.com/185/399588753_13dc09b331.jpg\\r\\nhttp://farm3.static.flickr.com/2306/2356303195_b8e72aeffe.jpg\\r\\nhttp://farm1.static.flickr.com/173/485570849_87c878f5d9.jpg\\r\\nhttp://static.flickr.com/1200/665129491_43f8538911.jpg\\r\\nhttp://farm4.static.flickr.com/3058/3008238698_d3447373ae.jpg\\r\\nhttp://www.physci.wsc.ma.edu/young/hgeol/geoinfo/timeline/fish/bob2.gif\\r\\nhttp://farm4.static.flickr.com/3044/2813247197_e5efc7c565.jpg\\r\\nhttp://www.thewallpapers.us/data/media/763/fish_2.jpg\\r\\nhttp://farm2.static.flickr.com/1391/1109204227_a1f3068ecc.jpg\\r\\nhttp://www.saburchill.com/images01/230807002.jpg\\r\\nhttp://www.tucsonmineral.com/images/verteberate/fishmed.JPG\\r\\nhttp://farm3.static.flickr.com/2107/2270987842_d13867f351.jpg\\r\\nhttp://www.travelexpressusa.com/images/fish.jpg\\r\\nhttp://www.tazabazar.com/images/fish_katla.jpg\\r\\nhttp://farm4.static.flickr.com/3242/2943685189_cc175a60da.jpg\\r\\nhttp://farm1.static.flickr.com/155/408671515_82857d1ae9.jpg\\r\\nhttp://www.nhm.ac.uk/about-us/news/2006/jan/images/paedocypris-pelvic-fins-COP-150_7503_1.jpg\\r\\nhttp://farm1.static.flickr.com/156/421324875_2d5433205c.jpg\\r\\nhttp://www.visitrapidcity.com/images/star_fish.jpg\\r\\nhttp://farm4.static.flickr.com/3051/2932996322_ed85a7ba5b.jpg\\r\\nhttp://www.lobstersonice.com/Images/MarchUpdate/RioDulce_fishAttack.jpg\\r\\nhttp://africanadrenalin.co.za/benguerra/pics/images/fish.jpg\\r\\nhttp://texas.sierraclub.org/austin/KauaiFish2.jpg\\r\\nhttp://static.flickr.com/2020/2286323669_2f621a4a50.jpg\\r\\nhttp://static.flickr.com/68/230915759_b87e06b35a.jpg\\r\\nhttp://www.jjphoto.dk/fish_archive/other/fish_index_fresh.jpg\\r\\nhttp://www.cnsweb.org/digestvertebrates/Photos/SharkLeopard%20CL04_2a.jpg\\r\\nhttp://homepage.ntlworld.com/s.payne8/minibeasts/images/fish.jpg\\r\\nhttp://lochsport.com/fishing/Yellow tail king fish.jpg\\r\\nhttp://www1.istockphoto.com/file_thumbview_approve/3142534/2/istockphoto_3142534_dead_fish.jpg\\r\\nhttp://farm3.static.flickr.com/2395/2058920506_ef60488b9c.jpg\\r\\nhttp://farm3.static.flickr.com/2181/2239507102_b065453221.jpg\\r\\nhttp://farm2.static.flickr.com/1416/841581917_a885145117.jpg\\r\\nhttp://farm3.static.flickr.com/2251/1622782718_47f0931af6.jpg\\r\\nhttp://www.samford.edu/schools/artsci/biology/zoology/vertzoo-06s/escambia/thumbnails/tBlackbanded-darter.jpg\\r\\nhttp://farm2.static.flickr.com/1137/790377965_f7f8ac0f40.jpg\\r\\nhttp://farm1.static.flickr.com/43/118386032_253172c220.jpg\\r\\nhttp://farm1.static.flickr.com/94/236874127_62e4178336.jpg\\r\\nhttp://farm3.static.flickr.com/2380/2178962702_7f547190af.jpg\\r\\nhttp://www.twoguysfossils.com/images/FISH_CHAN12.jpg\\r\\nhttp://farm4.static.flickr.com/3064/2536988757_87844d6766.jpg\\r\\nhttp://farm1.static.flickr.com/105/266705321_a88ea00575.jpg\\r\\nhttp://ir.panam.edu/NewsPhotos/gambusias.gif\\r\\nhttp://farm4.static.flickr.com/3162/2739660635_5e8c7a4954.jpg\\r\\nhttp://farm4.static.flickr.com/3229/2789522891_937b044428.jpg\\r\\nhttp://farm4.static.flickr.com/3244/2849264940_da949529bc.jpg\\r\\nhttp://www.centralmallsalina.com/fish.jpg\\r\\nhttp://farm2.static.flickr.com/1319/665133107_46a3ca49fc.jpg\\r\\nhttp://farm4.static.flickr.com/3047/2288526558_fa2259206f.jpg\\r\\nhttp://farm1.static.flickr.com/79/218285370_122676af38.jpg\\r\\nhttp://www.underwatertimes.com/news2/angler_fish_flat_face.jpg\\r\\nhttp://farm4.static.flickr.com/3231/3021943823_a32512215f.jpg\\r\\nhttp://farm1.static.flickr.com/176/485415871_979c3651e1.jpg\\r\\nhttp://www.aqua-fish.net/imgs/fish/betta-fish-4.jpg\\r\\nhttp://farm3.static.flickr.com/2292/2131465518_91cd7c00fb.jpg\\r\\nhttp://farm3.static.flickr.com/2364/1958384008_9ac6420680.jpg\\r\\nhttp://www.biostride.com/ProductCart/Pc/catalog/seablockimage_854_detail.gif\\r\\nhttp://www.nobodyhere.com/gfx/desktop_fish.bmp\\r\\nhttp://farm1.static.flickr.com/42/104403119_be1525725e.jpg\\r\\nhttp://farm1.static.flickr.com/115/253922514_53fc032ba5.jpg\\r\\nhttp://farm3.static.flickr.com/2313/2267941056_9b83801e30.jpg\\r\\nhttp://www.wildlifeextra.com/images/Borneo-microfish.JPG\\r\\nhttp://images.the-scientist.com/content/figures/images/yr1998/june/jun_art/toad_fish.jpg\\r\\nhttp://farm1.static.flickr.com/101/296085348_5cf1786da2.jpg\\r\\nhttp://www.mccullagh.org/db9/vietnam/vinh-long-market-fresh-fish.jpg\\r\\nhttp://farm4.static.flickr.com/3222/2931254025_acf6189da7.jpg\\r\\nhttp://farm3.static.flickr.com/2081/2472967203_ab03c5c6e7.jpg\\r\\nhttp://www.voanews.com/english/images/Midshipman-morphs-72.jpg\\r\\nhttp://farm4.static.flickr.com/3084/2632416321_0b6b37f993.jpg\\r\\nhttp://farm4.static.flickr.com/3123/2712260071_e0aa1181d1.jpg\\r\\nhttp://www.aqua.org/images/animals_index/animal-index-fish.jpg\\r\\nhttp://farm2.static.flickr.com/1280/1105287317_ff305f4fe9.jpg\\r\\nhttp://www.nationalaquarium.com/animal-freshwater.jpg\\r\\nhttp://farm1.static.flickr.com/36/119920482_69b84337fb.jpg\\r\\nhttp://museum.gov.ns.ca/mnh/nature/nhns/t11/t11-14.jpg\\r\\nhttp://www.bowdoin.edu/faculty/w/wjackman/lab/fish/Danio-rerio.jpg\\r\\nhttp://farm2.static.flickr.com/1194/828350269_587d0a6ed0.jpg\\r\\nhttp://farm1.static.flickr.com/189/444013599_533289a256.jpg\\r\\nhttp://farm3.static.flickr.com/2211/2038074931_79c7e59742.jpg\\r\\nhttp://farm1.static.flickr.com/50/133138859_0e690c9995.jpg\\r\\nhttp://www.denverzoo.org/images/Fish_page_02.jpg\\r\\nhttp://itgmv1.fzk.de/www/itg/mueller/images/figure4.jpg\\r\\nhttp://farm1.static.flickr.com/57/189103592_37e12f398a.jpg\\r\\nhttp://farm4.static.flickr.com/3166/2938822057_f9c7918218.jpg\\r\\nhttp://farm4.static.flickr.com/3142/2495388086_66edf6083d.jpg\\r\\nhttp://www.naturalsciences.be/common/images/institute/structure/molelabo/Utaka2.jpg\\r\\nhttp://www.humormeonline.com/images/ImagineThat/BigFish_Hvvhiii.jpg\\r\\nhttp://www.curator.org/LegacyVMNH/images/fishes/Australian_rainbowfish.jpg\\r\\nhttp://www.ucmp.berkeley.edu/vertebrates/basalfish/lampreytrout.jpg\\r\\nhttp://farm4.static.flickr.com/3191/2847042478_834dd7fabd.jpg\\r\\nhttp://www.sai.msu.su/wm/paint/auth/klee/golden-fish/klee.golden-fish.jpg\\r\\nhttp://medicine.iu.edu/images/iusm-sb/faculty/olson/kro-fish.jpg\\r\\nhttp://www.cabosource.com/images/fish_sgt_major.jpg\\r\\nhttp://www.sheppardsoftware.com/content/animals/images/fish/shark_dogfishbig.jpg\\r\\nhttp://farm3.static.flickr.com/2346/2512508626_b882ab3d12.jpg\\r\\nhttp://www.barwonbluff.com.au/bluff%20life/below%20waves/animals/vertebrates/fish/boney/images/yellow-eyed%20mullet.jpg\\r\\nhttp://i1.trekearth.com/photos/13490/fish-__fresh-__fiiish_....jpg\\r\\nhttp://static.flickr.com/3188/2796544704_e544945047.jpg\\r\\nhttp://farm4.static.flickr.com/3111/2849276340_ca46076ae2.jpg\\r\\nhttp://static.flickr.com/25/65896352_6866c2ee57.jpg\\r\\nhttp://www.ravencruise.com/images/Bora%20Bora%20-%20butterfly%20fish%20eating%20pretzel.jpg\\r\\nhttp://jrscience.wcp.muohio.edu/Photos/GoatFish.jpeg\\r\\nhttp://static.flickr.com/64/198537896_03e7858cbc.jpg\\r\\nhttp://farm4.static.flickr.com/3125/2848420291_a1c5f40b96.jpg\\r\\nhttp://www.neystadt.org/john/album/diving/fish-soup.jpg\\r\\nhttp://farm1.static.flickr.com/49/125530124_2c8d6308bd.jpg\\r\\nhttp://www.gamerevolution.com/images/blogpics/angler_fish.jpg\\r\\nhttp://static.flickr.com/61/213487412_4713268863.jpg\\r\\nhttp://www.naturalhistorymuseum.org.uk/resources-rx/images/school-of-fish_14807_1.jpg\\r\\nhttp://static.flickr.com/2171/2480347510_8b9f62084e.jpg\\r\\nhttp://www.cadsmith.com/petes_pond/fish6.jpg\\r\\nhttp://www.biology-blog.com/images/blogs/1-2007/sturgeon-8991.jpg\\r\\nhttp://static.flickr.com/42/85720617_1abc53935b.jpg\\r\\nhttp://farm1.static.flickr.com/72/178915247_3f6900782b.jpg\\r\\nhttp://static.flickr.com/39/80573655_74922dcceb.jpg\\r\\nhttp://www.animalloverworld.com/fish/images/250px-YellowPerch.jpg\\r\\nhttp://www.moretonexperience.com/images2/fish.JPG\\r\\nhttp://biology.clc.uc.edu/graphics/bio106/puffer%20fish.jpg\\r\\nhttp://static.flickr.com/29/50243647_8ced4c42ca.jpg\\r\\nhttp://www.biologicaldiversity.org/species/fish/FISH_(c)PaulHamilton.jpg\\r\\nhttp://farm1.static.flickr.com/232/491549932_815c6cd2f2.jpg\\r\\nhttp://www.usdivers.com/graphics/usd_pics/tropicalfish.jpg\\r\\nhttp://www.bdgift.com/pp/fish/a_none.jpg\\r\\nhttp://www.bootkeyharbor.com/images/Fish%20G86.jpg\\r\\nhttp://farm4.static.flickr.com/3235/2787013709_76f1989af4.jpg\\r\\nhttp://cturpen.files.wordpress.com/2007/06/parrot-fish.jpg\\r\\nhttp://centexnaturalist.com/foldermainmenus/sfvertebrates/folderfish/mosquitofish03245.gif\\r\\nhttp://static.flickr.com/1189/665139149_29e1435594.jpg\\r\\nhttp://static.flickr.com/104/369113389_80ae445b69.jpg\\r\\nhttp://www.chinahighlights.com/image/suzhou/fish-s.jpg\\r\\nhttp://www.kidswebindia.com/animal/butterflyfish.jpg\\r\\nhttp://www.freeimage4u.com/images/fish15.jpg\\r\\nhttp://most-expensive.net/wp-content/uploads/2008/07/expensive-aquarium-fish.jpg\\r\\nhttp://farm4.static.flickr.com/3043/2748954343_0eb294dd7b.jpg\\r\\nhttp://farm4.static.flickr.com/3133/2480198074_5982fa8fee.jpg\\r\\nhttp://www.bcm.edu/fromthelab/vol02/is11/images/4-fish2.jpg\\r\\nhttp://farm1.static.flickr.com/6/6534584_4ff6a1099f.jpg\\r\\nhttp://farm3.static.flickr.com/2281/1996042556_67d1106e2c.jpg\\r\\nhttp://farm4.static.flickr.com/3120/2849276646_9fd17bd31a.jpg\\r\\nhttp://www.samford.edu/schools/artsci/biology/zoology/vertzoo-06s/ebenezer/thumbnails/tBlack-spotted-topminnow.jpg\\r\\nhttp://yukonsheep.com/images/fish1.jpg\\r\\nhttp://static.flickr.com/114/280997704_41641532ba.jpg\\r\\nhttp://uk.gizmodo.com/robot%20fish.jpg\\r\\nhttp://bp1.blogger.com/_dzcJgJLJnw4/R2d_ipVyaeI/AAAAAAAABDA/wqF8oRFEgY0/s400/chromis.jpg\\r\\nhttp://static.flickr.com/2072/2399489401_50507f9a45.jpg\\r\\nhttp://rmbr.nus.edu.sg/news/images/20060201-Paedocypris_progenetica-Sumatra.jpg\\r\\nhttp://fish.isgreat.org/images/250px-Guppy-male.jpg\\r\\nhttp://farm2.static.flickr.com/1431/1375676819_74d7522f4b.jpg\\r\\nhttp://farm4.static.flickr.com/3034/2374587955_ac581bd5b2.jpg\\r\\nhttp://www.ucmp.berkeley.edu/vertebrates/coelacanth/COELFullsidesmallera.jpg\\r\\nhttp://thumbs.photo.net/photo/5692785-sm.jpg\\r\\nhttp://www.csus.edu/bios/gifs/s_sacramento_perch.jpg\\r\\nhttp://rohrerfeeds.com/images/fish.jpg\\r\\nhttp://farm2.static.flickr.com/1178/1072726914_a1c21db1e6.jpg?v=0\\r\\nhttp://www.biology-blog.com/images/blogs/1-2007/Astatotilapia-burtoni-6521.jpg\\r\\nhttp://www.e-pioneer.com/Animals/Types/images/moray_eel(NOAA).jpg\\r\\nhttp://www.thejump.net/fishingarticles/flying-fish.jpg\\r\\nhttp://sookenet.com/index/fish.jpg\\r\\nhttp://farm4.static.flickr.com/3097/2653688240_fdd0239a04.jpg\\r\\nhttp://farm1.static.flickr.com/29/99482362_e4adf5d85a.jpg\\r\\nhttp://www.northernneck.org/images/Fish_RedDrum.JPG\\r\\nhttp://farm4.static.flickr.com/3065/2552733137_3e320d278f.jpg\\r\\nhttp://static.flickr.com/1134/665128069_c69b994f34.jpg\\r\\nhttp://www.thaitable.com/images/Thai/recipes/pictures/5Fried%20Fish%20with%20Tamarind%20Sauce1.jpg\\r\\nhttp://www.copyright-free-pictures.org.uk/tropical-marine-fish/blue-lined-surgeon-fish.jpg\\r\\nhttp://static.flickr.com/12/18601676_42a94fd7b7.jpg\\r\\nhttp://static.flickr.com/82/268888612_99d4df53a9.jpg\\r\\nhttp://static.flickr.com/21/33226318_ca5d0b23ff.jpg\\r\\nhttp://farm3.static.flickr.com/2065/1588168236_79e6bc16d8.jpg\\r\\nhttp://farm3.static.flickr.com/2263/2038948156_27c38ad2d2.jpg\\r\\nhttp://mangrove.nus.edu.sg/pub/seashore/photos/245.jpg\\r\\nhttp://static.flickr.com/28/42885462_63399c5465.jpg\\r\\nhttp://www.channel4.com/food/images/mb/Channel4/4Food/recipes/landing_pages/getty_images_billboards/fish_billb.jpg\\r\\nhttp://www.njaas.org/images/Copy%20of%20queen-angel.jpg\\r\\nhttp://static.flickr.com/1210/1405413207_3cbc93c1f6.jpg\\r\\nhttp://static.flickr.com/1163/665140365_a8c718055a.jpg\\r\\nhttp://www.legaljuice.com/big_fish.jpg\\r\\nhttp://www.thejump.net/id/fish-with-human-face.jpg\\r\\nhttp://www.ru.org/fish2.jpg\\r\\nhttp://static.flickr.com/3281/2588474598_b999d5a3fb.jpg\\r\\nhttp://a.abcnews.com/images/Nightline/ht_fish11_061218_ssh.jpg\\r\\nhttp://p.vtourist.com/801984-Clown_Trigger_Fish-Maldives.jpg\\r\\nhttp://it.bentley.edu/LEPAGE_ALEX/Lab2/dwarf.jpg\\r\\nhttp://static.flickr.com/163/332450412_8e38b829da.jpg\\r\\nhttp://static.flickr.com/2392/2249430099_13c30af321.jpg\\r\\nhttp://farm1.static.flickr.com/247/461133965_6855955193.jpg\\r\\nhttp://farm3.static.flickr.com/2347/2147510175_1b42d8fc36.jpg\\r\\nhttp://www.advancedaquarist.com/2005/7/fish_album/AA2.jpg\\r\\nhttp://farm2.static.flickr.com/1217/841571705_abf910103d.jpg\\r\\nhttp://www.nature.com/nrg/journal/v3/n9/images/nrg903-i1.jpg\\r\\nhttp://static.flickr.com/1070/665996240_4b57436197.jpg\\r\\nhttp://www.fws.gov/orve/images/fish_f.jpg\\r\\nhttp://farm4.static.flickr.com/3290/3065394257_37bfa661bf.jpg\\r\\nhttp://www.animal-world.com/encyclo/fresh/cyprinids/images/DwarfRasboraWFCy_Ap4AR_vsm.jpg\\r\\nhttp://static.flickr.com/46/163540488_574f80fa62.jpg\\r\\nhttp://static.flickr.com/47/117990194_30087a97f3.jpg\\r\\nhttp://www.terradaily.com/images/east-african-cichlid-fish-pseudotropheus-emmiltos-bg.jpg\\r\\nhttp://static.flickr.com/2343/2230282157_62163f1dfd.jpg\\r\\nhttp://www.premierpetsupplies.com/fish-supplies.jpg\\r\\nhttp://farm4.static.flickr.com/3043/2616870431_69ff9d7e79.jpg\\r\\nhttp://www.naturalsciences.org/education/deepsea/images/porcupinefish.jpg\\r\\nhttp://www.fantasticfihpond.com/Fish_Pond1.jpg\\r\\nhttp://farm4.static.flickr.com/3050/2616870757_b4af246498.jpg\\r\\nhttp://farm3.static.flickr.com/2147/2195049808_19226fa9c1.jpg\\r\\nhttp://msnbcmedia.msn.com/j/msnbc/Components/Photos/041015/041015_snakehead_fish_vmed_8a.widec.jpg\\r\\nhttp://www.nature.com/news/2006/060130/images/060130-4a.jpg\\r\\nhttp://cnx.org/content/m12034/latest/fish.jpg\\r\\nhttp://static.flickr.com/1091/1480149608_24434a9feb.jpg\\r\\nhttp://www.biology-blog.com/images/blogs/12-2006/zebra-fish-61290.jpg\\r\\nhttp://static.howstuffworks.com/gif/siamese-fighting-fish.jpg\\r\\nhttp://www.plantgeek.com/images/glossary/pectoral.jpg\\r\\nhttp://farm2.static.flickr.com/1394/890499881_265e4e4f35.jpg\\r\\nhttp://farm1.static.flickr.com/107/296199407_01cfc10d20.jpg\\r\\nhttp://img.photobucket.com/albums/v292/Chris3025/Betta%20Fish/Betta_19.jpg\\r\\nhttp://www.cdb.riken.go.jp/jp/04_news/annual_reports/2003/FlashHelp/zebrafish.jpg\\r\\nhttp://farm4.static.flickr.com/3003/3073393094_1f9da2e24e.jpg\\r\\nhttp://farm3.static.flickr.com/2404/2328080676_0cf4523cc1.jpg\\r\\nhttp://www.mikelevin.com/colorfulfish.jpg\\r\\nhttp://animals.nationalgeographic.com/staticfiles/NGS/Shared/StaticFiles/animals/images/primary/whale-shark-with-fish.jpg\\r\\nhttp://farm1.static.flickr.com/8/12337426_2ab81c26c8.jpg\\r\\nhttp://www.bohnsack.com/images/fish/fish_closeup1_big.jpg\\r\\nhttp://photography.si.edu/upload/Images/md_1258_Image_elacatinus_xanthiprora_head.jpg\\r\\nhttp://www.bountyfishing.com/blog/images/robot-fish.jpg\\r\\nhttp://www.centralbasin.org/content/fish.gif\\r\\nhttp://www.turbophoto.com/Free-Stock-Images/Images/Pretty%20Fish.jpg\\r\\nhttp://www.fossilmall.com/fossils/reeffishes.jpg\\r\\nhttp://farm3.static.flickr.com/2404/2148042558_857d474c0b.jpg\\r\\nhttp://farm4.static.flickr.com/3050/2739667019_7e2554f99f.jpg\\r\\nhttp://www.japantimes.co.jp/images/photos2006/fe20060426ata.jpg\\r\\nhttp://www.clipperroundtheworld.com/images/gallery_race_news/Flying_fish.jpg\\r\\nhttp://www.istockphoto.com/file_thumbview_approve/5213659/2/istockphoto_5213659-fish.jpg\\r\\nhttp://www-geology.ucdavis.edu/www/research/howie_fish.jpg\\r\\nhttp://farm1.static.flickr.com/21/98629298_9774f5dc2d.jpg\\r\\nhttp://photo.agiweb.org/utils/showimage.php?ID=hna96m\\r\\nhttp://static.flickr.com/82/282496679_d17a2bd04f.jpg\\r\\nhttp://farm4.static.flickr.com/3036/2849253618_fc6019324c.jpg\\r\\nhttp://farm1.static.flickr.com/41/103210887_d670b5ba0c.jpg\\r\\nhttp://farm3.static.flickr.com/2279/2250269001_e6c9bfeafd.jpg\\r\\nhttp://farm1.static.flickr.com/8/10608776_93a244dd19.jpg\\r\\nhttp://www.oceanexplorer.noaa.gov/explorations/islands01/log/sep20/lanternfish_220.jpg\\r\\nhttp://farm4.static.flickr.com/3077/2639924406_9a177f427f.jpg\\r\\nhttp://farm2.static.flickr.com/1271/1257994572_7902ade890.jpg\\r\\nhttp://farm1.static.flickr.com/78/176951909_803841a433.jpg\\r\\nhttp://farm4.static.flickr.com/3078/2559808799_bf8bd02132.jpg\\r\\nhttp://photography.si.edu/upload/Images/md_1238_Image_canthigaster_rostrata_adult.jpg\\r\\nhttp://farm1.static.flickr.com/87/254988190_ee9243e053.jpg\\r\\nhttp://www.ratsound.com/cblog/uploads/japan_fish_blood.jpg\\r\\nhttp://farm1.static.flickr.com/26/52098809_55d5820b17.jpg\\r\\nhttp://7art-screensavers.com/screenshots/fish/red-blue-coral-fish.jpg\\r\\nhttp://farm1.static.flickr.com/23/26755418_466053e6d9.jpg\\r\\nhttp://www.nurc.uconn.edu/bigmouthfishes/WhyDoWeStudyFishPage/Why%20do%20we%20study%20fish%20pics/dogfish.jpg\\r\\nhttp://www.istockphoto.com/file_thumbview_approve/5312863/2/istockphoto_5312863-red-saddleback-anemone-fish.jpg\\r\\nhttp://animals.nationalgeographic.com/staticfiles/NGS/Shared/StaticFiles/animals/images/800/flying-fish.jpg\\r\\nhttp://farm4.static.flickr.com/3178/3055989234_d2043a6b9f.jpg\\r\\nhttp://www.azcentral.com/arizonarepublic/news/pics/breaking/1221fish.jpg\\r\\nhttp://farm3.static.flickr.com/2323/1534201702_d159a6960b.jpg\\r\\nhttp://www.deq.mt.gov/wqinfo/WPBForms/Pictures/fish.bmp\\r\\nhttp://www.freeimage4u.com/images/fish7.jpg\\r\\nhttp://www.childrensbiblestudy.com/YouAskedforit/fasting/red%20fish%202.jpg\\r\\nhttp://www.jadedragon.com/archives/koi/fish1.jpg\\r\\nhttp://static.flickr.com/3179/3012008468_73f14108db.jpg\\r\\nhttp://farm3.static.flickr.com/2073/2405039352_70f88d14c2.jpg\\r\\nhttp://static.flickr.com/2324/1960991300_315263f4b4.jpg\\r\\nhttp://sweetwaterfishing.com.au/images/ArcherFish.jpg\\r\\nhttp://farm2.static.flickr.com/1419/665996030_f1a8af2c86.jpg\\r\\nhttp://www.neaq.org/education_and_activities/blogs_webcams_videos_and_more/blogs/collecting_trip/uploaded_images/Diver+feeding+Fish-747814.jpg\\r\\nhttp://www.bluechillies.com/graphics/screens/free_marine_fish_screensaver-32069.jpg\\r\\nhttp://static.flickr.com/208/495139168_3a7081c46d.jpg\\r\\nhttp://farm2.static.flickr.com/1433/841572677_39a9e1b0e1.jpg\\r\\nhttp://farm4.static.flickr.com/3016/2560627752_2af136ec2e.jpg\\r\\nhttp://farm1.static.flickr.com/18/69407732_bb0a8c39be.jpg\\r\\nhttp://www.ci.manhattan.ks.us/images/pages/N589/clownfish.gif\\r\\nhttp://farm4.static.flickr.com/3067/3073392710_e401a45019.jpg\\r\\nhttp://www.library.yale.edu/musiclib/exhibits/pets/staffgallery/images/fish.jpg\\r\\nhttp://static.flickr.com/6/6534584_4ff6a1099f.jpg\\r\\nhttp://www.duiops.net/seresvivos/galeria/peces/Pine-Cone%20Fish.jpg\\r\\nhttp://farm1.static.flickr.com/159/430345140_762a6b0997.jpg\\r\\nhttp://farm1.static.flickr.com/149/424040346_e52e590e27.jpg\\r\\nhttp://wfrc.usgs.gov/research/images/aeintrofishladder.jpg\\r\\nhttp://www.centuryofdolls.com/images/items/1666/2588.jpg\\r\\nhttp://farm2.static.flickr.com/1392/665140143_70321c5c0f.jpg\\r\\nhttp://www.biology4kids.com/files/art/vert_fish1_240.jpg\\r\\nhttp://farm2.static.flickr.com/1118/749967385_22bc3d98b3.jpg\\r\\nhttp://i1.trekearth.com/photos/2813/fish_frenzy.jpg\\r\\nhttp://farm1.static.flickr.com/23/34592133_4e197c0729.jpg\\r\\nhttp://farm4.static.flickr.com/3178/3011884499_df2a80baec.jpg\\r\\nhttp://farm1.static.flickr.com/42/111169497_8d22a0998e.jpg\\r\\nhttp://static.flickr.com/1105/1072744590_bf3aa0d838.jpg\\r\\nhttp://focus.hms.harvard.edu/2003/Feb21_2003/zebrafish_green.jpg\\r\\nhttp://farm3.static.flickr.com/2148/2704992666_9222389fdf.jpg\\r\\nhttp://farm1.static.flickr.com/24/41713502_b77ab16476.jpg\\r\\nhttp://biology.queensu.ca/%7Ekozioll/blog/uploaded_images/zebrafish-739927.jpg\\r\\nhttp://images.acclaimimages.com/_gallery/_SM/0018-0609-1306-1741_SM.jpg\\r\\nhttp://farm2.static.flickr.com/1424/1068506237_c7a254662f.jpg\\r\\nhttp://farm4.static.flickr.com/3030/2748554391_c116f62c8f.jpg\\r\\nhttp://farm1.static.flickr.com/44/140420291_80715c6384.jpg\\r\\nhttp://www.dceventphotos.com/stockphotos/images/fish.jpg\\r\\nhttp://static.flickr.com/3220/2976575907_3912851d1b.jpg\\r\\nhttp://linuxventanitas.files.wordpress.com/2007/07/clown-fish.jpg\\r\\nhttp://www.reco.co.nz/assets/very-metal/Untitled_Fish1100mmlong.jpg\\r\\nhttp://www.ce.washington.edu/pub/serhad/FISH/Fish_neahbay.jpg\\r\\nhttp://farm4.static.flickr.com/3052/2934168720_f22bb3808b.jpg\\r\\nhttp://static.flickr.com/24/49748225_37ba604170.jpg\\r\\nhttp://farm4.static.flickr.com/3117/2896923413_833c059e78.jpg\\r\\nhttp://farm1.static.flickr.com/60/218285374_e4b9199593.jpg\\r\\nhttp://farm1.static.flickr.com/226/467460030_3988e7ff4e.jpg\\r\\nhttp://farm1.static.flickr.com/28/56124537_f663b6264f.jpg\\r\\nhttp://wilderness-explorers.com/Tiger%20Fish.gif\\r\\nhttp://ltmf-bali.com/images/gallery-marine-fish.jpg\\r\\nhttp://static.flickr.com/1278/855262701_1a016f764d.jpg\\r\\nhttp://farm3.static.flickr.com/2319/2205030607_98994ae2be.jpg\\r\\nhttp://sheppardsoftware.com/images/animalpics/fish1.jpg\\r\\nhttp://www.sp.uconn.edu/%7Eeschultz/fish1.jpg\\r\\nhttp://farm4.static.flickr.com/3288/2335165888_e7b90349c7.jpg\\r\\nhttp://www.beachconnection.net/news/glow_fish.jpg\\r\\nhttp://www.popgadget.net/images/fish-reflexology.jpg\\r\\nhttp://www.tobinphoto.com/images/photos/big-fish.jpg\\r\\nhttp://farm2.static.flickr.com/1218/578955809_728b3c86de.jpg\\r\\nhttp://farm1.static.flickr.com/22/29475773_2222bac8e7.jpg\\r\\nhttp://farm2.static.flickr.com/1226/1434047423_8ed1a8b230.jpg\\r\\nhttp://www.praguepost.com/articles/photos/2007-06-06/fs_3690-KampaFish070532.jpg\\r\\nhttp://farm1.static.flickr.com/37/94698102_b68e1d80b7.jpg\\r\\nhttp://farm4.static.flickr.com/3248/2901006499_8d35b3ff30.jpg\\r\\nhttp://static.flickr.com/75/223965305_bdf7c4b174.jpg\\r\\nhttp://www.islaculebra.com/images/4fish.JPG\\r\\nhttp://farm4.static.flickr.com/3281/2588474598_b999d5a3fb.jpg\\r\\nhttp://static.flickr.com/118/254991736_716727a17c.jpg\\r\\nhttp://farm2.static.flickr.com/1220/665990516_a905bfde12.jpg\\r\\nhttp://farm2.static.flickr.com/1076/815159906_d433d69cc2.jpg\\r\\nhttp://www6.cityu.edu.hk/tto/Admin/Data/ATPhoto%5CFishBioassayforDrugScreeningandEnvironmentalToxicityTesting%5CPicture1.png\\r\\nhttp://www.freeimage4u.com/images/fish20.jpg\\r\\nhttp://comenius.susqu.edu/bi/202/Animals/DEUTEROSTOMES/vertebrata/fish.jpg\\r\\nhttp://farm2.static.flickr.com/1051/885450783_d447e0f146.jpg\\r\\nhttp://farm3.static.flickr.com/2370/2059123144_bc674362dd.jpg\\r\\nhttp://farm1.static.flickr.com/47/115805605_a73ab3ebf4.jpg\\r\\nhttp://static.flickr.com/1266/665984680_ba1160c64b.jpg\\r\\nhttp://farm2.static.flickr.com/1300/1390842095_e5003e8c56.jpg\\r\\nhttp://farm2.static.flickr.com/1434/1022615386_48c6fd9b4a.jpg\\r\\nhttp://farm3.static.flickr.com/2335/2332022457_e9398d4316.jpg\\r\\nhttp://www.istockphoto.com/file_thumbview_approve/5312831/2/istockphoto_5312831-red-saddleback-anemone-fish.jpg\\r\\nhttp://www.mblaquaculture.com/assets/images/content/photo_Cyprinella_leedsi_Bennerfin_shiner_510px.jpg\\r\\nhttp://farm1.static.flickr.com/182/435379221_e33071c5d2.jpg\\r\\nhttp://farm2.static.flickr.com/1078/1141073848_fb3eae4285.jpg\\r\\nhttp://farm4.static.flickr.com/3173/2571820837_ea8d8a758e.jpg\\r\\nhttp://farm3.static.flickr.com/2334/2386057804_3b33d83a80.jpg\\r\\nhttp://farm1.static.flickr.com/9/76899880_1b574e13ab.jpg\\r\\nhttp://farm1.static.flickr.com/21/34945218_3cea57417c.jpg\\r\\nhttp://farm1.static.flickr.com/54/136836458_c42be038dd.jpg\\r\\nhttp://farm2.static.flickr.com/1405/1197866219_a4dbc53e66.jpg\\r\\nhttp://www.benthic.ca/data/reports/59/Anemone%20fish.jpg\\r\\nhttp://www.istockphoto.com/file_thumbview_approve/5655109/2/istockphoto_5655109-clown-fish-in-anemone.jpg\\r\\nhttp://www.jeron.je/anglia/learn/sec/science/prehist/fish.jpg\\r\\nhttp://farm2.static.flickr.com/1214/1437228207_052cef4892.jpg\\r\\nhttp://a-bangladesh.com/Thumbs/TF_0088.JPG\\r\\nhttp://farm1.static.flickr.com/39/101052069_4ec5a1ebf9.jpg\\r\\nhttp://farm4.static.flickr.com/3062/2936583316_5d1c425e8b.jpg\\r\\nhttp://farm1.static.flickr.com/69/212001734_59dcadcd87.jpg\\r\\nhttp://farm1.static.flickr.com/107/304727032_579107eb57.jpg\\r\\nhttp://farm4.static.flickr.com/3069/2695309423_8ee336eecd.jpg\\r\\nhttp://farm4.static.flickr.com/3008/3046062464_26fa91350f.jpg\\r\\nhttp://farm4.static.flickr.com/3016/2529737703_111914bf06.jpg\\r\\nhttp://www.gk-1048.uni-wuerzburg.de/uploads/pics/GrafikZebrafish.jpg\\r\\nhttp://farm2.static.flickr.com/1161/722653221_82403b2a18.jpg\\r\\nhttp://farm2.static.flickr.com/1021/849359222_edc003e67e.jpg\\r\\nhttp://photography.si.edu/upload/Images/md_1298_Image_serranus_baldwini_adult.jpg\\r\\nhttp://farm1.static.flickr.com/1/121693240_ffa19bd3d3.jpg\\r\\nhttp://www.news.uiuc.edu/WebsandThumbs/Cheng,Christina/C.amphitreta_b.jpg\\r\\nhttp://www.samford.edu/schools/artsci/biology/zoology/vertzoo-06s/dauphin/thumbnails/tSilver-Trout.jpg\\r\\nhttp://farm2.static.flickr.com/1101/1002019643_a6ce500fb6.jpg\\r\\nhttp://farm1.static.flickr.com/26/87931712_580349b7e4.jpg\\r\\nhttp://farm2.static.flickr.com/1212/867310424_5a2141358e.jpg\\r\\nhttp://farm4.static.flickr.com/3028/2398780221_053723cbeb.jpg\\r\\nhttp://www.foundalis.com/bio/cre/ray-finnedfish.jpg\\r\\nhttp://www.reefed.edu.au/__data/assets/image/0012/18111/whitetip_soldierfish.jpg\\r\\nhttp://farm1.static.flickr.com/36/105688313_451410be6c.jpg\\r\\nhttp://www.sptimes.com/2003/12/27/images/xlarge/B_1_1b4fish1_175771_1227.jpg\\r\\nhttp://farm1.static.flickr.com/42/93462083_3dc9179492.jpg\\r\\nhttp://farm4.static.flickr.com/3030/2943030475_a006ace372.jpg\\r\\nhttp://farm3.static.flickr.com/2332/1503268179_64cca2756b.jpg\\r\\nhttp://farm4.static.flickr.com/3266/2416988499_79ca3982c8.jpg\\r\\nhttp://128.227.186.212/fish/education/questions/montage.jpg\\r\\nhttp://farm3.static.flickr.com/2401/2075767620_166f1d6d3d.jpg\\r\\nhttp://www.elbert.k12.ga.us/showcase/nadams/fish/Puffer2.jpg\\r\\nhttp://farm2.static.flickr.com/1048/665986898_2ccc84c81a.jpg\\r\\nhttp://cache.daylife.com/imageserve/07hR8zSa5B2H3/610x.jpg\\r\\nhttp://farm4.static.flickr.com/3040/2965905380_4e938e91da.jpg\\r\\nhttp://www.si.edu/ahhp/ScientificIllustrators/mud%20fish.JPG\\r\\nhttp://farm1.static.flickr.com/43/108001912_9ef4675984.jpg\\r\\nhttp://farm4.static.flickr.com/3013/2927863612_473b78e362.jpg\\r\\nhttp://farm1.static.flickr.com/138/331070861_547c5e1460.jpg\\r\\nhttp://farm1.static.flickr.com/140/332090619_06d5d8df50.jpg\\r\\nhttp://www.wfu.edu/biology/faculty/esch_files/fish.jpe\\r\\nhttp://photography.si.edu/upload/Images/md_1233_Image_bodianus_rufus_adult.jpg\\r\\nhttp://www.eurekalert.org/images/release_graphics/cell20206.jpg\\r\\nhttp://farm3.static.flickr.com/2312/2375421520_f5be6a78b6.jpg\\r\\nhttp://farm2.static.flickr.com/1001/665987154_bb77a89d1b.jpg\\r\\nhttp://farm1.static.flickr.com/47/131769863_a701d2e154.jpg\\r\\nhttp://psy.ucsd.edu/~sanstis/zebrafish.gif\\r\\nhttp://farm3.static.flickr.com/2355/2055869077_1592dff7cf.jpg\\r\\nhttp://evodevo.uoregon.edu/images/Fish.gif\\r\\nhttp://upload.wikimedia.org/wikipedia/commons/thumb/7/77/Puffer_Fish_DSC01257.JPG/250px-Puffer_Fish_DSC01257.JPG\\r\\nhttp://www.biology-blog.com/images/blogs/9-2006/fish-that-walk-2181.jpg\\r\\nhttp://farm3.static.flickr.com/2308/1664453740_fab6782f9b.jpg\\r\\nhttp://photography.si.edu/upload/Images/md_1267_Image_halichoeres_radiatus_termin.jpg\\r\\nhttp://farm4.static.flickr.com/3003/2560684388_2851b89c81.jpg\\r\\nhttp://farm3.static.flickr.com/2095/2272422227_3bd62beb8b.jpg\\r\\nhttp://farm1.static.flickr.com/136/405127168_2493de7507.jpg\\r\\nhttp://wwww.loch-ness.com/images/pike.gif\\r\\nhttp://www.biology.uwaterloo.ca/images/bdixon_rainbow_trout.jpg\\r\\nhttp://farm3.static.flickr.com/2322/1729249267_9a85f80cd1.jpg\\r\\nhttp://farm4.static.flickr.com/3074/2637919751_eba46680e9.jpg\\r\\nhttp://farm1.static.flickr.com/51/136751134_cbf92f3501.jpg\\r\\nhttp://farm1.static.flickr.com/21/34643753_bd82f663b3.jpg\\r\\nhttp://ngcblog.nationalgeographic.com/ngcblog/Man%20with%20fish%20(Custom)%20(2).jpg\\r\\nhttp://farm3.static.flickr.com/2176/2430949114_8354f778c0.jpg\\r\\nhttp://farm4.static.flickr.com/3209/2967761414_00832687fe.jpg\\r\\nhttp://farm2.static.flickr.com/1043/1400365003_e7f0846fcf.jpg\\r\\nhttp://www.bishopmuseum.org/research/natsci/fish/images/squirrels.png\\r\\nhttp://farm4.static.flickr.com/3186/2751342675_be350fc3b5.jpg\\r\\nhttp://farm3.static.flickr.com/2365/2169810625_84f3f9e92e.jpg\\r\\nhttp://farm4.static.flickr.com/3159/2450152796_840f85bd65.jpg\\r\\nhttp://www.latvijasdaba.lv/1/thisimg/d-13.jpg\\r\\nhttp://farm4.static.flickr.com/3145/2716941132_705c2dbdba.jpg\\r\\nhttp://farm4.static.flickr.com/3252/2388796069_c996965d92.jpg\\r\\nhttp://static.flickr.com/1144/665137961_7a22e32f76.jpg\\r\\nhttp://www.troutnut.com/im_regspec/picture_3150_small.jpg\\r\\nhttp://farm4.static.flickr.com/3272/3069883026_74a0067f01.jpg\\r\\nhttp://farm1.static.flickr.com/2/3894939_228a8ddf50.jpg\\r\\nhttp://www.cyhaus.com/marine/fish/cod.jpg\\r\\nhttp://neuropolitics.org/fish1.jpg\\r\\nhttp://farm4.static.flickr.com/3092/2849263556_568de4e198.jpg\\r\\nhttp://i5.photobucket.com/albums/y193/AFROdytee82/Gangstarrgirl/0_21_072108_fish.jpg\\r\\nhttp://dwrcdc.nr.utah.gov/rsgis2/images/Photos/lepomacr.jpg\\r\\nhttp://cas.bellarmine.edu/tietjen/images/eeel.jpg\\r\\nhttp://farm1.static.flickr.com/200/485940262_9d2a9e4c21.jpg\\r\\nhttp://static.flickr.com/1003/665988066_a87c10dbbc.jpg\\r\\nhttp://www.flmnh.ufl.edu/fish/gymnotus/gymnotus/index_clip_image002.jpg\\r\\nhttp://www.biology4kids.com/misc/photos/fish2.jpg\\r\\nhttp://www.photovault.com/Link/Animals/Aquatic/aSeawaterFish/AAAVolume03/AAAV03P14_12.jpg\\r\\nhttp://farm3.static.flickr.com/2103/2862769994_632ec102cc.jpg\\r\\nhttp://www.animalcorner.co.uk/marine/fish/graphics/angel_rockbeauty.jpg\\r\\nhttp://www.humboldt.edu/~fish/images/zool310.gif\\r\\nhttp://www.malawicichlidhomepage.com/other/digchaetodonlunula2.jpg\\r\\nhttp://farm1.static.flickr.com/47/150810756_6ae8b9ac49.jpg\\r\\nhttp://www.traveljournals.net/pictures/l/9/99608-mola-mola-a-strange-fish-for-me-called-ocean-sunfish-saiki-japan.jpg\\r\\nhttp://www.oceanlight.com/thumbs/02250.jpg\\r\\nhttp://farm2.static.flickr.com/1229/815163720_d2851270df.jpg\\r\\nhttp://blog.wired.com/wiredscience/images/2007/06/26/fish.jpg\\r\\nhttp://farm2.static.flickr.com/1036/665138869_68bebe283a.jpg\\r\\nhttp://farm4.static.flickr.com/3241/2595102383_75549528f0.jpg\\r\\nhttp://farm4.static.flickr.com/3023/2848479085_472c93c879.jpg\\r\\nhttp://www.iofbk.com/sitebuildercontent/sitebuilderpictures/aphyosemion_oyo.jpg\\r\\nhttp://farm4.static.flickr.com/3195/2763774187_064c31466a.jpg?v=0\\r\\nhttp://farm4.static.flickr.com/3203/2617694682_7858ab6b2f.jpg\\r\\nhttp://farm1.static.flickr.com/206/499578984_4f79c06051.jpg\\r\\nhttp://www.montessoriforeveryone.com/assets/images/types%20of%20fish1(1).jpg\\r\\nhttp://farm1.static.flickr.com/147/414643232_e41938acc2.jpg\\r\\nhttp://www.wildernessclassroom.com/hsmb/images/library/needle_fish.jpg\\r\\nhttp://www.istockphoto.com/file_thumbview_approve/5655615/2/istockphoto_5655615_lionfish.jpg\\r\\nhttp://www2.parkscanada.gc.ca/docs/v-g/ie-ei/at-ag/images/endangered-fish.jpg\\r\\nhttp://farm1.static.flickr.com/87/219648029_560cbcd7cd.jpg\\r\\nhttp://www.passivesmarcasm.com/Fish/Ambloplites_rupestris_1.jpg\\r\\nhttp://farm2.static.flickr.com/1416/808877421_2a3d3f063e.jpg\\r\\nhttp://www.igb-berlin.de/abt4/mitarbeiter/freyhof/Scrap8.gif\\r\\nhttp://farm4.static.flickr.com/3031/2362573850_15f0d9b169.jpg\\r\\nhttp://newsimg.bbc.co.uk/media/images/44840000/jpg/_44840168_fish_226300.jpg\\r\\nhttp://farm1.static.flickr.com/116/293411341_4f3cacc0fd.jpg\\r\\nhttp://msnbcmedia4.msn.com/j/msnbc/Components/Photos/061018/061018_Gogofish_hmed_12p.hmedium.jpg\\r\\nhttp://static.flickr.com/1101/665995048_65c4e95ecf.jpg\\r\\nhttp://static.flickr.com/81/223965532_2bb0f68c67.jpg\\r\\nhttp://www.wacona.com/words/organisms/fish.h7.jpg\\r\\nhttp://farm4.static.flickr.com/3134/2848444047_b910600d8e.jpg\\r\\nhttp://farm4.static.flickr.com/3246/2718731501_7fab9979e4.jpg\\r\\nhttp://www.crystalinks.com/fish906a.jpg\\r\\nhttp://farm1.static.flickr.com/22/34608340_7ba7d5b042.jpg\\r\\nhttp://www.case.edu/artsci/biol/images/zebrafish.jpg\\r\\nhttp://farm1.static.flickr.com/193/495347062_191bd976b0.jpg\\r\\nhttp://bp3.blogger.com/_IveFNaXc6Mo/SIXZLIWMB9I/AAAAAAAACOw/qaxzNSXxJmk/s400/most-expensive-fish.jpg\\r\\nhttp://static.flickr.com/1332/665984930_4127a929e2.jpg\\r\\nhttp://www.tucsonmineral.com/images/verteberate/brazfish.JPG\\r\\nhttp://www.csufresno.edu/biology/RISE/images/Riley_fish2.jpg\\r\\nhttp://dnr.wi.gov/org/land/er/factsheets/fish/images/grtred.jpg\\r\\nhttp://farm2.static.flickr.com/1214/1320522593_987e0860ab.jpg\\r\\nhttp://farm2.static.flickr.com/1401/867311450_f5966f7cf6.jpg\\r\\nhttp://blog.oregonlive.com/oregonoutdoors/2008/01/large_OD.Big_Pig.jpg\\r\\nhttp://farm1.static.flickr.com/230/476421905_7bb54535bc.jpg\\r\\nhttp://farm4.static.flickr.com/3049/2973058785_990abed00d.jpg\\r\\nhttp://farm3.static.flickr.com/2024/1558755418_ba7e33f005.jpg\\r\\nhttp://farm3.static.flickr.com/2090/2522187494_1257cba352.jpg\\r\\nhttp://farm1.static.flickr.com/217/503230107_e7f7c3d5d0.jpg\\r\\nhttp://www.theworldsbestever.com/fish2.jpg\\r\\nhttp://farm1.static.flickr.com/91/213200825_ec42a5f966.jpg\\r\\nhttp://farm1.static.flickr.com/47/113462750_a156f2001d.jpg\\r\\nhttp://farm1.static.flickr.com/38/82994525_57e7f9b432.jpg\\r\\nhttp://www.natronaschools.org/%7elynn_bell/FOV2-00034039/Images/34-11-CartilageFishCollage.jpg\\r\\nhttp://www.usgs.gov/corecast/images/thumbs/fish.jpg\\r\\nhttp://farm1.static.flickr.com/22/34945123_97ca009c99.jpg\\r\\nhttp://farm1.static.flickr.com/40/81531489_eaf3e5d031.jpg\\r\\nhttp://www.seaworld.org.za/images/BKEBatfish04.jpg\\r\\nhttp://farm1.static.flickr.com/196/465690641_8c725308a5.jpg\\r\\nhttp://farm3.static.flickr.com/2416/2148043948_d8d4f4447d.jpg\\r\\nhttp://www.istockphoto.com/file_thumbview_approve/4638172/2/istockphoto_4638172_gold_stripe_maroon_clownfish_premnas_biaculeatus.jpg\\r\\nhttp://farm1.static.flickr.com/208/495139194_3cba1688ab.jpg\\r\\nhttp://farm1.static.flickr.com/37/78171503_67c9a4ed97.jpg\\r\\nhttp://farm1.static.flickr.com/9/16544130_7c93d9a2cf.jpg\\r\\nhttp://farm1.static.flickr.com/35/114891127_9a7ed0f344.jpg\\r\\nhttp://www.phschool.com/science/science_news/articles/images/beat_goes_on_01.jpg\\r\\nhttp://theparadisemaldives.com/images/fauna/bony-fish.gif\\r\\nhttp://farm1.static.flickr.com/102/281410469_297afc30d0.jpg\\r\\nhttp://collections.ucsd.edu/content/13/images/WuAngler200.jpg\\r\\nhttp://farm2.static.flickr.com/1096/1459349226_f955788b6c.jpg\\r\\nhttp://bellsouthpwp2.net/c/a/camilojr/animals/vertebrates/Anenome-fish-1.jpg\\r\\nhttp://farm2.static.flickr.com/1236/678030147_5b0f8ed640.jpg\\r\\nhttp://www.uac.arizona.edu/VSC443/coldblood/Valentine_Pufferfish_Z.jpg\\r\\nhttp://farm1.static.flickr.com/23/37295333_3c04e9d53c.jpg\\r\\nhttp://farm1.static.flickr.com/26/54447890_d4aab73138.jpg\\r\\nhttp://farm3.static.flickr.com/2068/2514054470_f8e89d08d5.jpg\\r\\nhttp://farm1.static.flickr.com/76/201351175_de17db1d36.jpg\\r\\nhttp://www.biology-blog.com/images/blogs/blackdevil-angler-fish-4562.jpg\\r\\nhttp://vertebrates.si.edu/fishes/larval/images/bot170a.jpg\\r\\nhttp://www.hetvettebaarsje.nl/dotcontent/data/image/Nieuw20.JPG\\r\\nhttp://farm3.static.flickr.com/2275/2376278605_dd2fb1b888.jpg\\r\\nhttp://farm4.static.flickr.com/3172/2402169839_6d9c5286ab.jpg\\r\\nhttp://farm1.static.flickr.com/70/201843235_9902376432.jpg\\r\\nhttp://farm1.static.flickr.com/39/123478356_13aa8c16a7.jpg\\r\\nhttp://farm3.static.flickr.com/2285/2254749283_f7f19f82e0.jpg\\r\\nhttp://farm1.static.flickr.com/5/5580981_48ad944d2a.jpg\\r\\nhttp://farm3.static.flickr.com/2119/2494668699_dd632942d8.jpg\\r\\nhttp://farm1.static.flickr.com/139/381994831_e8f06adc1d.jpg\\r\\nhttp://farm3.static.flickr.com/2148/1995179899_9fa22ddaa2.jpg\\r\\nhttp://farm3.static.flickr.com/2412/2174884380_0e6cba2edf.jpg\\r\\nhttp://farm3.static.flickr.com/2353/2019391575_88d57cf639.jpg\\r\\nhttp://farm1.static.flickr.com/29/56968305_70f89208ff.jpg\\r\\nhttp://farm1.static.flickr.com/41/81242197_8a2f785138.jpg\\r\\nhttp://farm1.static.flickr.com/1/1176493_69287ebec3.jpg\\r\\nhttp://farm4.static.flickr.com/3216/2781625844_290a49cf4e.jpg\\r\\nhttp://www.istockphoto.com/file_thumbview_approve/4707410/2/istockphoto_4707410_hard_coral_reef_with_school_of_snappers.jpg\\r\\nhttp://216.139.230.234/store/images/ProdImages/FISH-7286.jpg\\r\\nhttp://www.seaforyourself.com/dragonet,-mandarinfish-3.jpg\\r\\nhttp://static.howstuffworks.com/gif/fish-quiz-250x150.jpg\\r\\nhttp://farm1.static.flickr.com/111/301158725_9dacabf2d5.jpg\\r\\nhttp://farm2.static.flickr.com/1020/853727893_fcfdd9035f.jpg\\r\\nhttp://farm1.static.flickr.com/67/221861122_03b682a520.jpg\\r\\nhttp://farm1.static.flickr.com/43/87337753_5b1b69e109.jpg\\r\\nhttp://farm4.static.flickr.com/3185/3039871467_828bd68ccc.jpg\\r\\nhttp://farm3.static.flickr.com/2096/2169897590_b03abd60cd.jpg\\r\\nhttp://www.rinr.fsu.edu/summer2004/images/fish.jpg\\r\\nhttp://www.mnh.si.edu/highlight/coelacanth/images/205871_fig_1_sm.jpg\\r\\nhttp://farm2.static.flickr.com/1129/558895686_7be3c26b96.jpg\\r\\nhttp://farm1.static.flickr.com/25/103864246_8b6dab0e14.jpg\\r\\nhttp://static.flickr.com/1146/665133733_8a29bce102.jpg\\r\\nhttp://farm4.static.flickr.com/3241/2848478621_e33a0f85ba.jpg\\r\\nhttp://farm3.static.flickr.com/2273/2219263735_25e97bb729.jpg\\r\\nhttp://farm1.static.flickr.com/47/144449851_974532fbe8.jpg\\r\\nhttp://farm1.static.flickr.com/3/2502778_553abf2ac9.jpg\\r\\nhttp://farm2.static.flickr.com/1055/540792128_bd0be0b9ee.jpg?v=0\\r\\nhttp://static.flickr.com/1108/665989186_afe6ae859b.jpg\\r\\nhttp://nelson.beckman.uiuc.edu/courses/neuroethol/models/lamprey_swimming/lampreyOnFish.gif\\r\\nhttp://farm2.static.flickr.com/1336/815157684_bb5bb229b4.jpg\\r\\nhttp://farm3.static.flickr.com/2365/2207652716_f201e27248.jpg\\r\\nhttp://www.peat-portal.net/aeimages/Image/fish200.jpg\\r\\nhttp://farm2.static.flickr.com/1110/815158592_55ad6fe1d3.jpg\\r\\nhttp://farm4.static.flickr.com/3166/2921544170_fb39afa3fb.jpg\\r\\nhttp://farm4.static.flickr.com/3177/2294236682_aa3322d1ce.jpg\\r\\nhttp://farm4.static.flickr.com/3180/2582773612_e2d8c0a8ce.jpg\\r\\nhttp://farm1.static.flickr.com/72/224517441_43e943140d.jpg\\r\\nhttp://farm3.static.flickr.com/2165/2916716074_e815502777.jpg\\r\\nhttp://farm1.static.flickr.com/39/87688054_638d76ab77.jpg\\r\\nhttp://farm3.static.flickr.com/2324/2494658479_d3a2ff9ff1.jpg\\r\\nhttp://idahoptv.org/dialogue4kids/season7/fish/images/fish5.jpg\\r\\nhttp://www.samford.edu/schools/artsci/biology/zoology/vertzoo-06s/ebenezer/thumbnails/tRedspotted-sunfish.jpg\\r\\nhttp://farm2.static.flickr.com/1058/869040475_544872ef51.jpg\\r\\nhttp://farm1.static.flickr.com/34/73942436_5ee0d7e25e.jpg\\r\\nhttp://farm4.static.flickr.com/3130/2848420781_ac1c0571a6.jpg\\r\\nhttp://farm4.static.flickr.com/3212/2646318907_5f58a715d9.jpg\\r\\nhttp://farm2.static.flickr.com/1132/1207349509_9f02f9c889.jpg\\r\\nhttp://farm3.static.flickr.com/2076/2108708972_25863b7063.jpg\\r\\nhttp://www.gan.ca/images/hooks/rainbowfish.jpg\\r\\nhttp://farm4.static.flickr.com/3257/2849263766_e3e7c507f2.jpg\\r\\nhttp://i220.photobucket.com/albums/dd177/ashok_rathan/female-Paedocypris-fish-COP-370_750.jpg\\r\\nhttp://bp2.blogger.com/_iHhyDICzzUg/SCxvNde354I/AAAAAAAAAK0/vSy9-s_40Dg/s320/titkaalik_onland.jpg\\r\\nhttp://static.flickr.com/2021/2109582366_ceee46dd00.jpg\\r\\nhttp://www.talkdesign.org/faqs/evimmune/ei_animal006.jpg\\r\\nhttp://farm4.static.flickr.com/3246/2931920293_8a1466b6ac.jpg\\r\\nhttp://farm4.static.flickr.com/3161/2592614904_3faa800b6e.jpg\\r\\nhttp://static.flickr.com/1016/665136313_247610d66d.jpg\\r\\nhttp://mangrove.nus.edu.sg/pub/seashore/photos/242.jpg\\r\\nhttp://farm1.static.flickr.com/4/5243472_fccce111d4.jpg\\r\\nhttp://farm1.static.flickr.com/187/376876029_ffb208d29a.jpg\\r\\nhttp://www.ucmp.berkeley.edu/vertebrates/coelacanth/CoelArnaz66.jpg\\r\\nhttp://farm4.static.flickr.com/3140/2848474835_22386dc95e.jpg\\r\\nhttp://www.nku.edu/~thompsone1/images/zebrafish.jpg\\r\\nhttp://www.sci.sdsu.edu/collections/pageart/garibaldi.jpg\\r\\nhttp://farm1.static.flickr.com/113/307920819_72ac061268.jpg\\r\\nhttp://farm4.static.flickr.com/3060/3069883436_c0458c9361.jpg\\r\\nhttp://ftp.pcworld.com/pub/screencams/fish_2.jpg\\r\\nhttp://www.youpet.com/graphics/animals/butterfly-cichlid-fish.jpg\\r\\nhttp://farm2.static.flickr.com/1120/665986580_54242eec44.jpg\\r\\nhttp://www.animalcorner.co.uk/marine/fish/graphics/fish2.jpg\\r\\nhttp://farm4.static.flickr.com/3092/2297057368_8f950b8345.jpg\\r\\nhttp://news.bbc.co.uk/olmedia/645000/images/_645578_fish300.jpg\\r\\nhttp://www.samford.edu/schools/artsci/biology/zoology/vertzoo-06s/ebenezer/thumbnails/tpygmy-sunfish.jpg\\r\\nhttp://www.hku.hk/ecology/porcupine/por26gif/paradisefish.jpg\\r\\nhttp://www.samford.edu/schools/artsci/biology/zoology/vertzoo-06s/escambia/thumbnails/tSailfin-shiner.jpg\\r\\nhttp://farm3.static.flickr.com/2277/1811808741_fbef733f85.jpg\\r\\nhttp://farm4.static.flickr.com/3119/2834742571_b4f82b06e3.jpg\\r\\nhttp://farm1.static.flickr.com/87/223245566_4377e28303.jpg\\r\\nhttp://www.rvs3a.com/sciencewebquest/fish.jpg\\r\\nhttp://www.veganoutreach.org/whyvegan/images/FishCaughtInNet.jpg\\r\\nhttp://i.cdn.turner.com/cnn/2008/images/04/23/art.molly.fish.jpg\\r\\nhttp://farm4.static.flickr.com/3060/3038288553_841c5fb698.jpg\\r\\nhttp://www.idsos.state.id.us/elect/fish.jpg\\r\\nhttp://www.soton.ac.uk/~imw/jpg/fish1.jpg\\r\\nhttp://www.styledetective.com/10_archive/highresimages/Influences/beachedfish.jpg\\r\\nhttp://agnr.umd.edu/departments/ENST/files/fish.jpg\\r\\nhttp://farm3.static.flickr.com/2109/2402169649_54506b5292.jpg\\r\\nhttp://www.samford.edu/schools/artsci/biology/zoology/vertzoo-06s/ltcahaba/thumbnails/tAlabama-Hogsucker-dosal.jpg\\r\\nhttp://static.flickr.com/65/223965626_5b914f6f67.jpg\\r\\nhttp://farm2.static.flickr.com/1246/871100256_314a99baef.jpg\\r\\nhttp://farm1.static.flickr.com/25/65896352_6866c2ee57.jpg\\r\\nhttp://farm4.static.flickr.com/3108/2849249908_21f60957b9.jpg\\r\\nhttp://sil.usask.ca/Ecology_files/Wood_eating_catfish.jpg\\r\\nhttp://farm1.static.flickr.com/34/90680775_c947d02aa9.jpg\\r\\nhttp://www.anta.canterbury.ac.nz/resources/images/fish_l.jpg\\r\\nhttp://farm1.static.flickr.com/205/496232914_54e5427a4b.jpg\\r\\nhttp://static.flickr.com/148/435374841_063a5a93ee.jpg\\r\\nhttp://farm1.static.flickr.com/224/463256849_f9306c1892.jpg\\r\\nhttp://www.walterwriston.com/home/feature/zebrafish/zebrafish_pic1.jpg\\r\\nhttp://farm3.static.flickr.com/2104/2409679883_a158cee081.jpg\\r\\nhttp://farm4.static.flickr.com/3005/2848421173_0e36069567.jpg\\r\\nhttp://farm4.static.flickr.com/3114/2332181426_1e2262d477.jpg\\r\\nhttp://farm1.static.flickr.com/23/34945039_0e8f298aeb.jpg\\r\\nhttp://farm2.static.flickr.com/1252/547675651_ba6cf54e46.jpg\\r\\nhttp://www.fossilfarm.co.uk/sc1306fish.jpg\\r\\nhttp://www.istockphoto.com/file_thumbview_approve/3451549/2/istockphoto_3451549-oscar-fish-in-the-dark.jpg\\r\\nhttp://farm2.static.flickr.com/1353/1071786053_10d823794d.jpg\\r\\nhttp://farm1.static.flickr.com/42/75717556_92b327fc89.jpg\\r\\nhttp://farm1.static.flickr.com/30/46253541_e8fcc410c0.jpg\\r\\nhttp://farm1.static.flickr.com/102/302035617_63b734a2c9.jpg\\r\\nhttp://www.aslo.org/photopost/data/517/7Mosquitofish.JPG\\r\\nhttp://farm4.static.flickr.com/3242/3059637868_1da466d694.jpg\\r\\nhttp://www.reefed.edu.au/__data/assets/image/0020/18092/longnosedbutterflyfish.jpg\\r\\nhttp://mangrove.nus.edu.sg/pub/seashore/photos/238.jpg\\r\\nhttp://www.mspca.org/images/content/pagebuilder/21319.jpg\\r\\nhttp://www.kent.k12.wa.us/staff/timlynch/sci_class/chap15/images/gouramis.gif\\r\\nhttp://www.snr.arizona.edu/files/shared/Devils_Hole_Pupfish_0.jpg\\r\\nhttp://farm1.static.flickr.com/180/391236899_7bfe80ad84.jpg\\r\\nhttp://farm1.static.flickr.com/49/113836048_439ee9e14f.jpg\\r\\nhttp://farm2.static.flickr.com/1164/844009769_46804b42c9.jpg\\r\\nhttp://farm1.static.flickr.com/70/174164234_0590df603d.jpg\\r\\nhttp://farm1.static.flickr.com/91/221864242_aee9db9924.jpg\\r\\nhttp://farm4.static.flickr.com/3248/2613257189_c3a2531eab.jpg\\r\\nhttp://farm3.static.flickr.com/2384/2537016400_1080bcd5c5.jpg\\r\\nhttp://farm1.static.flickr.com/12/18747108_1869ef87fb.jpg\\r\\nhttp://farm1.static.flickr.com/145/435355938_50babb4396.jpg\\r\\nhttp://farm4.static.flickr.com/3094/2617692694_db4f47eeac.jpg?v=0\\r\\nhttp://farm2.static.flickr.com/1231/737015104_b0aa4f9ea1.jpg\\r\\nhttp://farm3.static.flickr.com/2179/2072422059_1c54e33ec6.jpg\\r\\nhttp://dwrcdc.nr.utah.gov/rsgis2/images/Photos/esoxluci.jpg\\r\\nhttp://farm1.static.flickr.com/3/2373708_e3cdf0765c.jpg\\r\\nhttp://farm1.static.flickr.com/90/273291980_6a58b14d74.jpg\\r\\nhttp://photography.si.edu/upload/Images/md_1305_Image_stegastes_partitus_adult.jpg\\r\\nhttp://farm2.static.flickr.com/1267/665135923_2bf522b4b2.jpg\\r\\nhttp://www.samford.edu/schools/artsci/biology/zoology/vertzoo-06s/bigsandy/thumbnails/tspotted-topminnow.jpg\\r\\nhttp://farm1.static.flickr.com/236/462067336_c6d1255569.jpg\\r\\nhttp://farm3.static.flickr.com/2331/2390329683_7869d973d3.jpg\\r\\nhttp://farm1.static.flickr.com/140/332474300_d932d33e54.jpg\\r\\nhttp://farm4.static.flickr.com/3144/2324616746_69c29a6b8a.jpg\\r\\nhttp://farm3.static.flickr.com/2365/1587681048_2951bde48e.jpg\\r\\nhttp://farm3.static.flickr.com/2366/1743656966_471a1f4950.jpg\\r\\nhttp://farm2.static.flickr.com/1287/1119272554_684b9322f8.jpg\\r\\nhttp://farm4.static.flickr.com/3146/2776031051_cb6f47771c.jpg\\r\\nhttp://farm1.static.flickr.com/56/147898827_924de805e4.jpg\\r\\nhttp://farm1.static.flickr.com/147/431255944_6a54e83028.jpg\\r\\nhttp://www.gab-biotech.de/images/i89.jpg\\r\\nhttp://farm2.static.flickr.com/1350/815161602_f71bcaa0d0.jpg\\r\\nhttp://farm1.static.flickr.com/21/32814129_974cd530bf.jpg\\r\\nhttp://farm1.static.flickr.com/48/160636332_052918d242.jpg\\r\\nhttp://www.istockphoto.com/file_thumbview_approve/3070684/2/istockphoto_3070684_geophagus_cichlid.jpg\\r\\nhttp://farm4.static.flickr.com/3246/2771392074_7f710d06d2.jpg\\r\\nhttp://farm4.static.flickr.com/3001/3012879454_3761301550.jpg\\r\\nhttp://farm1.static.flickr.com/21/27445085_af22836a9d.jpg\\r\\nhttp://farm2.static.flickr.com/1335/842440846_b2d85c8eaa.jpg\\r\\nhttp://farm1.static.flickr.com/36/81344946_e6a16af633.jpg\\r\\nhttp://farm4.static.flickr.com/3222/3069058045_a4ed6527c1.jpg\\r\\nhttp://farm4.static.flickr.com/3237/2804093768_29b1e0cd31.jpg\\r\\nhttp://farm1.static.flickr.com/40/76690807_c34b647f1f.jpg\\r\\nhttp://static.flickr.com/117/296184207_0c61c1488f.jpg\\r\\nhttp://farm4.static.flickr.com/3002/2848420909_4948c0af8f.jpg\\r\\nhttp://farm1.static.flickr.com/21/34608400_779ed2e114.jpg\\r\\nhttp://www.broad.mit.edu/annotation/tetraodon/images/tn17.gif\\r\\nhttp://myweb.dal.ca/rpcroll/images/Zebrafish.jpg\\r\\nhttp://farm1.static.flickr.com/193/502699527_2452c44c75.jpg\\r\\nhttp://farm4.static.flickr.com/3243/2521157262_ebf1198e99.jpg\\r\\nhttp://static.flickr.com/1194/665129691_861b5703c3.jpg\\r\\nhttp://farm4.static.flickr.com/3091/2395206126_bc735ce037.jpg\\r\\nhttp://farm1.static.flickr.com/57/186885532_3693207c62.jpg\\r\\nhttp://farm3.static.flickr.com/2105/2184774029_99db554932.jpg\\r\\nhttp://farm3.static.flickr.com/2380/2229962028_4e2da7178a.jpg\\r\\nhttp://farm3.static.flickr.com/2113/2375083583_83b955cd7d.jpg\\r\\nhttp://farm4.static.flickr.com/3107/2808905211_90b4450a6c.jpg\\r\\nhttp://farm4.static.flickr.com/3185/2849246986_a1872b7161.jpg\\r\\nhttp://farm4.static.flickr.com/3011/2441820456_0256a2b246.jpg\\r\\nhttp://farm4.static.flickr.com/3232/2913840530_da166ae411.jpg\\r\\nhttp://farm1.static.flickr.com/64/218285373_b2378efca5.jpg\\r\\nhttp://farm1.static.flickr.com/148/334335681_f65ad95df3.jpg\\r\\nhttp://farm1.static.flickr.com/125/323438079_c501f4db12.jpg\\r\\nhttp://www.science.fau.edu/sharklab/photos/crestfish_head.jpg\\r\\nhttp://farm2.static.flickr.com/1144/747729245_ae3822c8d3.jpg\\r\\nhttp://www.samford.edu/schools/artsci/biology/zoology/vertzoo-06s/cahabariver/thumbnails/tBlacktail-shiner.jpg\\r\\nhttp://farm2.static.flickr.com/1244/530641854_871c950a95.jpg\\r\\nhttp://farm1.static.flickr.com/21/34919599_ded5c17906.jpg\\r\\nhttp://farm3.static.flickr.com/2088/2471699978_95e450058f.jpg\\r\\nhttp://farm2.static.flickr.com/1081/1026659667_f1824a607a.jpg\\r\\nhttp://farm1.static.flickr.com/87/241064204_be19befaea.jpg\\r\\nhttp://farm4.static.flickr.com/3111/2742981158_f8e9f55462.jpg\\r\\nhttp://farm3.static.flickr.com/2345/2398582192_d9ddbc879c.jpg\\r\\nhttp://farm1.static.flickr.com/68/202973519_4c8ba035f8.jpg\\r\\nhttp://farm1.static.flickr.com/100/265151956_fd6c35a809.jpg\\r\\nhttp://farm2.static.flickr.com/1083/665129981_634ab93945.jpg\\r\\nhttp://static.flickr.com/1091/665994326_95673b36e2.jpg\\r\\nhttp://farm4.static.flickr.com/3063/3042827119_b378a5e586.jpg\\r\\nhttp://www.coris.noaa.gov/glossary/vertebrate_186.jpg\\r\\nhttp://farm4.static.flickr.com/3107/2668012506_37f182d7e3.jpg\\r\\nhttp://farm4.static.flickr.com/3203/2620787291_64bc9f7ed1.jpg\\r\\nhttp://farm2.static.flickr.com/1110/1397925614_96050ed9f6.jpg\\r\\nhttp://farm1.static.flickr.com/74/224862324_68cb26f856.jpg\\r\\nhttp://farm1.static.flickr.com/22/41427128_c9b806941b.jpg\\r\\nhttp://farm2.static.flickr.com/1105/1072744590_bf3aa0d838.jpg\\r\\nhttp://farm1.static.flickr.com/90/240517635_76bff0d25f.jpg\\r\\nhttp://farm4.static.flickr.com/3013/3067781782_8571fa3f94.jpg\\r\\nhttp://farm1.static.flickr.com/119/302035620_0c48e6e747.jpg\\r\\nhttp://farm1.static.flickr.com/53/352677389_d034c3b500.jpg\\r\\nhttp://farm1.static.flickr.com/121/287642951_450674306a.jpg\\r\\nhttp://farm3.static.flickr.com/2096/2050121572_76c96e3143.jpg\\r\\nhttp://farm2.static.flickr.com/1335/863297529_d2d4c8a213.jpg\\r\\nhttp://farm2.static.flickr.com/1228/578240406_8d399b87c7.jpg\\r\\nhttp://farm1.static.flickr.com/32/53578659_24b33201aa.jpg\\r\\nhttp://farm4.static.flickr.com/3069/3017053541_06feb1a48a.jpg\\r\\nhttp://www.samford.edu/schools/artsci/biology/zoology/vertzoo-06s/dauphin/thumbnails/tsand-sea-trout.jpg\\r\\nhttp://www.davidlnelson.md/Cazadero/CazImages/Salmon_Coho_zoology_bc_thumbnail.jpg\\r\\nhttp://blog.earth-touch.com/images/uploads/clown-fish.jpg\\r\\nhttp://farm2.static.flickr.com/1422/1385195250_7a793ed537.jpg\\r\\nhttp://farm1.static.flickr.com/182/428715095_bbda9ef82d.jpg\\r\\nhttp://farm1.static.flickr.com/60/219919137_7bd9355c0c.jpg\\r\\nhttp://farm3.static.flickr.com/2242/2264274537_82e81e4cdf.jpg\\r\\nhttp://sciencenow.sciencemag.org/content/vol2004/issue1020/images/2004102021.jpg\\r\\nhttp://farm1.static.flickr.com/56/154006120_3f3769cd75.jpg\\r\\nhttp://wdfw.wa.gov/fish/chum/graphics/chum_colors.jpg\\r\\nhttp://farm3.static.flickr.com/2293/2380473369_b3afb9fbb1.jpg\\r\\nhttp://farm4.static.flickr.com/3284/3069059279_f9604dc672.jpg\\r\\nhttp://ksaitoh1.hp.infoseek.co.jp/carp.JPG\\r\\nhttp://farm3.static.flickr.com/2023/2071713249_ab86ed49d5.jpg\\r\\nhttp://farm4.static.flickr.com/3096/2769094476_99ef03dce1.jpg\\r\\nhttp://farm1.static.flickr.com/135/318286158_24b4a475da.jpg\\r\\nhttp://farm4.static.flickr.com/3263/2552034089_e1cb47f148.jpg\\r\\nhttp://www.samford.edu/schools/artsci/biology/zoology/vertzoo-06s/cahabariver/thumbnails/tLargemouth-bass.jpg\\r\\nhttp://www.schoolplaten.com/nl-kleurplaat-kleurplaten-foto-vis---makreel-p8040.jpg\\r\\nhttp://farm4.static.flickr.com/3045/2631239878_958d4079fa.jpg\\r\\nhttp://farm1.static.flickr.com/56/110544300_62c12c4df8.jpg\\r\\nhttp://farm4.static.flickr.com/3136/2608108843_f2558de1bf.jpg\\r\\nhttp://farm4.static.flickr.com/3296/3055134601_01a111e4b4.jpg\\r\\nhttp://blogs.psychologytoday.com/files/u58/huge_fish.jpg\\r\\nhttp://www.nmnh.si.edu/rtp/students/2006/images/coelacanth2.jpg\\r\\nhttp://classic.sidwell.edu/us/science/vlb/class/animalia/fish.jpg\\r\\nhttp://farm2.static.flickr.com/1165/1312507111_954afb8ce3.jpg\\r\\nhttp://farm4.static.flickr.com/3226/3036560866_ff99e17bdd.jpg\\r\\nhttp://www.dns-forums.co.uk/caresheet_images/oscar.jpg\\r\\nhttp://www.practicalfishkeeping.co.uk/pfk/images/noth_rachovi.jpg\\r\\nhttp://static.flickr.com/3030/2943030475_a006ace372.jpg\\r\\nhttp://farm4.static.flickr.com/3282/2639434507_f5f17db95f.jpg\\r\\nhttp://static.flickr.com/3028/2398780221_053723cbeb.jpg\\r\\nhttp://farm4.static.flickr.com/3172/2898631024_982785128e.jpg\\r\\nhttp://farm2.static.flickr.com/1426/960180866_9efeff58a2.jpg\\r\\nhttp://farm1.static.flickr.com/184/420574388_b537565658.jpg\\r\\nhttp://malawicichlids.com/labeotr_trew_marmcat_sm.jpg\\r\\nhttp://www.dkimages.com/discover/previews/986/10006818.JPG\\r\\nhttp://static.flickr.com/3097/2546982934_a1d82bd29b.jpg\\r\\nhttp://farm2.static.flickr.com/1199/1353647483_74e75af404.jpg\\r\\nhttp://farm1.static.flickr.com/24/60952602_60d8f5bddd.jpg\\r\\nhttp://67.102.20.37/~bernie/sciproject/project/Kingdoms/Animalia4/Images/ColorfulFish-anthias.jpg\\r\\nhttp://wwwdelivery.superstock.com/WI/223/1491/PreviewComp/SuperStock_1491R-1025256.jpg\\r\\nhttp://farm1.static.flickr.com/133/360455656_b2a09c5802.jpg\\r\\nhttp://farm4.static.flickr.com/3198/2812568040_7b5319486a.jpg\\r\\nhttp://farm3.static.flickr.com/2260/2074236136_007b2e1ca2.jpg\\r\\nhttp://farm1.static.flickr.com/37/115422167_552050e103.jpg\\r\\nhttp://pzmyers.pharyngula.org/principles/conv2/img/zebrafish.jpg\\r\\nhttp://farm1.static.flickr.com/243/462942305_a0405568db.jpg\\r\\nhttp://farm3.static.flickr.com/2340/2377573752_1ebf92ec8d.jpg\\r\\nhttp://farm4.static.flickr.com/3144/2630417835_42cb67b599.jpg\\r\\nhttp://farm1.static.flickr.com/53/138551854_a4d560576b.jpg\\r\\nhttp://farm3.static.flickr.com/2121/1603421638_905242da3c.jpg\\r\\nhttp://farm4.static.flickr.com/3178/2595960307_cb6e28761b.jpg\\r\\nhttp://farm3.static.flickr.com/2206/1706938682_a7b80c7bd3.jpg\\r\\nhttp://bio1152.nicerweb.com/doc/class/bio1152/Locked/media/ch34/34_17RayFinnedFishDivers.jpg\\r\\nhttp://farm1.static.flickr.com/13/15401757_6a3d92e53d.jpg\\r\\nhttp://farm1.static.flickr.com/50/113568465_102062397e.jpg\\r\\nhttp://farm4.static.flickr.com/3202/2688138331_75487a703f.jpg\\r\\nhttp://farm1.static.flickr.com/64/167496631_29b7d16b97.jpg\\r\\nhttp://www.scubamex.com/photos/fish.jpg\\r\\nhttp://www.davidlnelson.md/Cazadero/CazImages/Salmon_Coho.gif\\r\\n\\n'\n"
     ]
    }
   ],
   "source": [
    "from bs4 import BeautifulSoup\n",
    "import numpy as np\n",
    "import requests\n",
    "import cv2\n",
    "import PIL.Image\n",
    "import urllib\n",
    "page = requests.get(\"http://image-net.org/api/text/imagenet.synset.geturls?wnid=n02512053\")\n",
    "print(page.content)\n",
    "\n",
    "soup = BeautifulSoup(page.content, 'html.parser')"
   ]
  },
  {
   "cell_type": "code",
   "execution_count": 10,
   "metadata": {},
   "outputs": [
    {
     "name": "stdout",
     "output_type": "stream",
     "text": [
      "1308\n"
     ]
    }
   ],
   "source": [
    "str_soup=str(soup)#convert soup to string so it can be split\n",
    "type(str_soup)\n",
    "split_urls=str_soup.split('\\r\\n')#split so each url is a different possition on a list\n",
    "print(len(split_urls))#print the length of the list so you know how many urls you have"
   ]
  },
  {
   "cell_type": "code",
   "execution_count": null,
   "metadata": {},
   "outputs": [],
   "source": []
  }
 ],
 "metadata": {
  "kernelspec": {
   "display_name": "Python 3",
   "language": "python",
   "name": "python3"
  },
  "language_info": {
   "codemirror_mode": {
    "name": "ipython",
    "version": 3
   },
   "file_extension": ".py",
   "mimetype": "text/x-python",
   "name": "python",
   "nbconvert_exporter": "python",
   "pygments_lexer": "ipython3",
   "version": "3.5.5"
  },
  "widgets": {
   "state": {},
   "version": "1.1.2"
  }
 },
 "nbformat": 4,
 "nbformat_minor": 2
}
