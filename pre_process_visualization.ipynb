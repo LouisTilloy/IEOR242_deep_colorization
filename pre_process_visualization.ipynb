{
 "cells": [
  {
   "cell_type": "code",
   "execution_count": null,
   "metadata": {},
   "outputs": [],
   "source": [
    "import os\n",
    "import cv2\n",
    "import numpy as np\n",
    "import matplotlib.pyplot as plt\n",
    "\n",
    "from utils import data_generator\n",
    "\n",
    "IMAGE_FOLDER = \"debug_images\"\n",
    "\n",
    "\n",
    "image_paths = [IMAGE_FOLDER + \"/\" + name for name in next(os.walk(IMAGE_FOLDER))[2]]\n",
    "gen = data_generator(image_paths)"
   ]
  },
  {
   "cell_type": "code",
   "execution_count": null,
   "metadata": {},
   "outputs": [],
   "source": [
    "# LAUNCH THIS BLOCK TO TRY OUT THE DATA GENERATOR\n",
    "feature, labels = next(gen)\n",
    "plt.imshow(feature, cmap=\"gray\")"
   ]
  },
  {
   "cell_type": "code",
   "execution_count": null,
   "metadata": {
    "scrolled": false
   },
   "outputs": [],
   "source": [
    "# LAUNCH THIS BLOCK TO VISUALIZE THE PRE PROCESS\n",
    "from utils import pre_process, process_output\n",
    "\n",
    "def plot_visualization(image):\n",
    "    \"\"\"\n",
    "    Function to visualize the best output we could have from\n",
    "    a perfect a model, given the information lost in the pre-process.\n",
    "    (especially the resizing makes us lose a lot of details)\n",
    "    \"\"\"\n",
    "    features, labels = pre_process(image)\n",
    "    output = process_output(features, labels, np.shape(image))\n",
    "    \n",
    "    plt.subplot(1, 3, 1)\n",
    "    plt.imshow(image)\n",
    "    plt.title(\"original image\")\n",
    "    \n",
    "    plt.subplot(1, 3, 2)\n",
    "    plt.imshow(output)\n",
    "    plt.title(\"optimal network output\")\n",
    "    \n",
    "    plt.subplot(1, 3, 3)\n",
    "    plt.imshow(features, cmap=\"gray\")\n",
    "    plt.title(\"network input\")\n",
    "    \n",
    "    \n",
    "list_names = np.random.choice(next(os.walk(IMAGE_FOLDER))[2], 6, replace=False)\n",
    "for name in list_names:\n",
    "    bgr_image = cv2.imread(IMAGE_FOLDER + \"/\" + name)\n",
    "    rgb_image = bgr_image[:, :, ::-1]\n",
    "    \n",
    "    plt.figure(figsize=(15, 5))\n",
    "    plot_visualization(rgb_image)"
   ]
  }
 ],
 "metadata": {
  "kernelspec": {
   "display_name": "Python 3",
   "language": "python",
   "name": "python3"
  },
  "language_info": {
   "codemirror_mode": {
    "name": "ipython",
    "version": 3
   },
   "file_extension": ".py",
   "mimetype": "text/x-python",
   "name": "python",
   "nbconvert_exporter": "python",
   "pygments_lexer": "ipython3",
   "version": "3.6.6"
  }
 },
 "nbformat": 4,
 "nbformat_minor": 2
}
