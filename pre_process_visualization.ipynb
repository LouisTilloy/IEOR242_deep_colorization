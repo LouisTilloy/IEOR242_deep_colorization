{
 "cells": [
  {
   "cell_type": "code",
   "execution_count": null,
   "metadata": {},
   "outputs": [],
   "source": [
    "import os\n",
    "import cv2\n",
    "import numpy as np\n",
    "import matplotlib.pyplot as plt\n",
    "\n",
    "from utils import data_generator\n",
    "\n",
    "IMAGE_FOLDER = \"val\"\n",
    "\n",
    "\n",
    "image_paths = [IMAGE_FOLDER + \"/\" + name for name in next(os.walk(IMAGE_FOLDER))[2]]\n",
    "gen = data_generator(image_paths)"
   ]
  },
  {
   "cell_type": "code",
   "execution_count": null,
   "metadata": {},
   "outputs": [],
   "source": [
    "# LAUNCH THIS BLOCK TO TRY OUT THE DATA GENERATOR\n",
    "feature, labels = next(gen)\n",
    "plt.imshow(feature, cmap=\"gray\")"
   ]
  },
  {
   "cell_type": "code",
   "execution_count": null,
   "metadata": {
    "scrolled": false
   },
   "outputs": [],
   "source": [
    "# LAUNCH THIS BLOCK TO VISUALIZE THE PRE PROCESS\n",
    "from utils import pre_process, process_output\n",
    "\n",
    "def plot_visualization(image):\n",
    "    \"\"\"\n",
    "    Function to visualize the best output we could have from\n",
    "    a perfect a model, given the information lost in the pre-process.\n",
    "    (especially the resizing makes us lose a lot of details)\n",
    "    \"\"\"\n",
    "    features, labels = pre_process(image)\n",
    "    output = process_output(features, labels, np.shape(image))\n",
    "    \n",
    "    plt.subplot(1, 3, 1)\n",
    "    plt.imshow(image)\n",
    "    plt.title(\"original image\")\n",
    "    \n",
    "    plt.subplot(1, 3, 2)\n",
    "    plt.imshow(output)\n",
    "    plt.title(\"optimal network output\")\n",
    "    \n",
    "    plt.subplot(1, 3, 3)\n",
    "    plt.imshow(features, cmap=\"gray\")\n",
    "    plt.title(\"network input\")\n",
    "    \n",
    "    \n",
    "list_names = np.random.choice(next(os.walk(IMAGE_FOLDER))[2], 6, replace=False)\n",
    "for name in list_names:\n",
    "    bgr_image = cv2.imread(IMAGE_FOLDER + \"/\" + name)\n",
    "    rgb_image = bgr_image[:, :, ::-1]\n",
    "    \n",
    "    plt.figure(figsize=(15, 5))\n",
    "    plot_visualization(rgb_image)"
   ]
  },
  {
   "cell_type": "code",
   "execution_count": null,
   "metadata": {},
   "outputs": [],
   "source": [
    "# COPY OF PRE-PROCESS: use this to experiment with input size\n",
    "from utils import _simple_bin\n",
    "\n",
    "def pre_process_2(image):\n",
    "    \"\"\"\n",
    "    rgb_image -> features, labels\n",
    "    \"\"\"\n",
    "    resized_image = cv2.resize(image, (104, 104))\n",
    "    lab_image = cv2.cvtColor(resized_image, cv2.COLOR_RGB2LAB)\n",
    "    luminance = lab_image[:, :, 0]\n",
    "    ab_channels = lab_image[:, :, 1:]\n",
    "    binned_ab_channels = _simple_bin(ab_channels)\n",
    "\n",
    "    return luminance, binned_ab_channels\n",
    "\n",
    "\n",
    "def data_generator_2(image_paths):\n",
    "    \"\"\"\n",
    "    Given a list of image paths, returns a generator\n",
    "    that goes through all the images (once) and\n",
    "    pre process them.\n",
    "    \"\"\"\n",
    "    shuffled_paths = np.array(image_paths)\n",
    "    np.random.shuffle(shuffled_paths)\n",
    "    for path in shuffled_paths:\n",
    "        bgr_image = cv2.imread(path)\n",
    "        rgb_image = bgr_image[:, :, ::-1]\n",
    "        try:\n",
    "            yield pre_process_2(rgb_image)\n",
    "        except cv2.error:\n",
    "            print(\"/!\\\\ CV2 ERROR /!\\\\\")\n",
    "            \n",
    "gen = data_generator_2(image_paths)"
   ]
  },
  {
   "cell_type": "code",
   "execution_count": null,
   "metadata": {},
   "outputs": [],
   "source": [
    "# Use this to show pre-process examples from the pre-process defined above\n",
    "for i in range(5):\n",
    "    plt.figure(figsize=(15,15))\n",
    "    for j in range(0, 5):\n",
    "        features, labels = next(gen)\n",
    "        plt.subplot(1, 5, j + 1)\n",
    "        plt.axis('off')\n",
    "        plt.imshow(features, cmap=\"gray\")"
   ]
  }
 ],
 "metadata": {
  "kernelspec": {
   "display_name": "Python 3",
   "language": "python",
   "name": "python3"
  },
  "language_info": {
   "codemirror_mode": {
    "name": "ipython",
    "version": 3
   },
   "file_extension": ".py",
   "mimetype": "text/x-python",
   "name": "python",
   "nbconvert_exporter": "python",
   "pygments_lexer": "ipython3",
   "version": "3.6.6"
  }
 },
 "nbformat": 4,
 "nbformat_minor": 2
}
