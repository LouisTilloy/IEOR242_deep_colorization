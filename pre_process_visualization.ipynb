{
 "cells": [
  {
   "cell_type": "code",
   "execution_count": null,
   "metadata": {},
   "outputs": [],
   "source": [
    "import os\n",
    "import cv2\n",
    "import numpy as np\n",
    "import matplotlib.pyplot as plt\n",
    "\n",
    "from utils import data_generator\n",
    "\n",
    "IMAGENET_FOLDER = \"val\""
   ]
  },
  {
   "cell_type": "markdown",
   "metadata": {},
   "source": [
    "<h2> 2d bins </h2>"
   ]
  },
  {
   "cell_type": "code",
   "execution_count": null,
   "metadata": {},
   "outputs": [],
   "source": [
    "# LAUNCH THIS BLOCK TO TRY OUT THE DATA GENERATOR\n",
    "gen = data_generator(IMAGENET_FOLDER, 104)\n",
    "feature, labels = next(gen)\n",
    "plt.imshow(feature, cmap=\"gray\")"
   ]
  },
  {
   "cell_type": "code",
   "execution_count": null,
   "metadata": {
    "scrolled": false
   },
   "outputs": [],
   "source": [
    "# LAUNCH THIS BLOCK TO VISUALIZE THE PRE PROCESS\n",
    "from utils import pre_process, process_output\n",
    "\n",
    "def plot_visualization(image):\n",
    "    \"\"\"\n",
    "    Function to visualize the best output we could have from\n",
    "    a perfect a model, given the information lost in the pre-process.\n",
    "    (especially the resizing makes us lose a lot of details)\n",
    "    \"\"\"\n",
    "    features, labels = pre_process(image, resolution=104)\n",
    "    output = process_output(features, labels, np.shape(image))\n",
    "    \n",
    "    plt.subplot(1, 3, 1)\n",
    "    plt.imshow(image)\n",
    "    plt.title(\"original image\")\n",
    "    \n",
    "    plt.subplot(1, 3, 2)\n",
    "    plt.imshow(output)\n",
    "    plt.title(\"optimal network output\")\n",
    "    \n",
    "    plt.subplot(1, 3, 3)\n",
    "    plt.imshow(features, cmap=\"gray\")\n",
    "    plt.title(\"network input\")\n",
    "\n",
    "\n",
    "list_names = np.random.choice(next(os.walk(IMAGENET_FOLDER))[2], 6, replace=False)\n",
    "for name in list_names:\n",
    "    bgr_image = cv2.imread(IMAGENET_FOLDER + \"/\" + name)\n",
    "    rgb_image = bgr_image[:, :, ::-1]\n",
    "    \n",
    "    plt.figure(figsize=(15, 5))\n",
    "    plot_visualization(rgb_image)"
   ]
  },
  {
   "cell_type": "code",
   "execution_count": null,
   "metadata": {},
   "outputs": [],
   "source": [
    "# PLOT HISTOGRAM OF LUMINANCE IN FEATURES (for 1,000 random images)\n",
    "hist_dict = dict(((i, 0) for i in range(256)))\n",
    "index = 0\n",
    "for feature, label in gen:\n",
    "    if index == 1000:\n",
    "        break\n",
    "    for value in feature.flatten():\n",
    "        hist_dict[value] += 1\n",
    "    index += 1\n",
    "    \n",
    "plt.bar(list(hist_dict.keys()), hist_dict.values())"
   ]
  },
  {
   "cell_type": "markdown",
   "metadata": {},
   "source": [
    "<h2> regression input </h2>"
   ]
  },
  {
   "cell_type": "code",
   "execution_count": null,
   "metadata": {},
   "outputs": [],
   "source": [
    "# LAUNCH THIS BLOCK TO TRY OUT THE DATA GENERATOR\n",
    "gen = data_generator(IMAGENET_FOLDER, 104, is_regression=True)\n",
    "feature, labels = next(gen)\n",
    "plt.imshow(feature, cmap=\"gray\")"
   ]
  },
  {
   "cell_type": "code",
   "execution_count": null,
   "metadata": {
    "scrolled": true
   },
   "outputs": [],
   "source": [
    "# LAUNCH THIS BLOCK TO VISUALIZE THE PRE PROCESS\n",
    "from utils import pre_process_regression, process_output_regression\n",
    "\n",
    "def plot_visualization(image):\n",
    "    \"\"\"\n",
    "    Function to visualize the best output we could have from\n",
    "    a perfect a model, given the information lost in the pre-process.\n",
    "    (especially the resizing makes us lose a lot of details)\n",
    "    \"\"\"\n",
    "    features, labels = pre_process_regression(image, resolution=104)\n",
    "    output = process_output_regression(features, labels, np.shape(image))\n",
    "    \n",
    "    plt.subplot(1, 3, 1)\n",
    "    plt.imshow(image)\n",
    "    plt.title(\"original image\")\n",
    "    \n",
    "    plt.subplot(1, 3, 2)\n",
    "    plt.imshow(output)\n",
    "    plt.title(\"optimal network output\")\n",
    "    \n",
    "    plt.subplot(1, 3, 3)\n",
    "    plt.imshow(features, cmap=\"gray\")\n",
    "    plt.title(\"network input\")\n",
    "\n",
    "\n",
    "list_names = np.random.choice(next(os.walk(IMAGENET_FOLDER))[2], 6, replace=False)\n",
    "for name in list_names:\n",
    "    bgr_image = cv2.imread(IMAGENET_FOLDER + \"/\" + name)\n",
    "    rgb_image = bgr_image[:, :, ::-1]\n",
    "    \n",
    "    plt.figure(figsize=(15, 5))\n",
    "    plot_visualization(rgb_image)"
   ]
  }
 ],
 "metadata": {
  "kernelspec": {
   "display_name": "Python 3",
   "language": "python",
   "name": "python3"
  },
  "language_info": {
   "codemirror_mode": {
    "name": "ipython",
    "version": 3
   },
   "file_extension": ".py",
   "mimetype": "text/x-python",
   "name": "python",
   "nbconvert_exporter": "python",
   "pygments_lexer": "ipython3",
   "version": "3.6.6"
  }
 },
 "nbformat": 4,
 "nbformat_minor": 2
}
